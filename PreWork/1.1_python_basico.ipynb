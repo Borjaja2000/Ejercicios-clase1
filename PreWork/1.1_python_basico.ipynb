{
 "cells": [
  {
   "attachments": {},
   "cell_type": "markdown",
   "metadata": {},
   "source": [
    "<!DOCTYPE html>\n",
    "<html>\n",
    "<head>\n",
    "</head>\n",
    "<body>\n",
    "\n",
    "<div style=\"display: flex; justify-content: center; align-items: center; font-family: Arial, sans-serif; margin-top: 20px; margin-bottom: 20px;\">\n",
    "  <div style=\"text-align: right;\">\n",
    "    <div style=\"font-size: 24px; font-weight: bold; color: white; margin-left:20px;\">PREWORK BOOTCAMP DATA ANALYTICS</div>\n",
    "    <div style=\"font-size: 18px; font-weight: bold; margin-left: 20px;\">PRIMER BLOQUE: PYTHON</div>\n",
    "  </div>\n",
    "  <div style=\"text-align: right;\">\n",
    "    <img src=\"https://d1fdloi71mui9q.cloudfront.net/S8HhvUnnRgmjyhySHtWl_ZQMaRWd21TfV5AsU\" width=\"100\" height=\"100\">\n",
    "  </div>\n",
    "  <div style=\"text-align: left;\">\n",
    "    <div style=\"font-size: 24px; font-weight: bold; color: white; margin-left:20px;\">UPGRADE-HUB</div>\n",
    "    <div style=\"font-size: 18px; font-weight: bold; margin-left: 20px;\">coordinacion.data@bootcamp-upgrade.com</div>\n",
    "  </div>\n",
    "</div>\n",
    "\n",
    "</body>\n",
    "</html>\n",
    "\n",
    "\n"
   ]
  },
  {
   "attachments": {},
   "cell_type": "markdown",
   "metadata": {},
   "source": [
    "<center><img src=\"https://www.python.org/static/img/python-logo@2x.png\" width=\"150\"></center> </br>\n",
    "\n",
    "<center><u><FONT COLOR=\"white\"> ¿Qué es</FONT> Python?   </center>  "
   ]
  },
  {
   "attachments": {},
   "cell_type": "markdown",
   "metadata": {},
   "source": [
    "Python es un lenguaje de programación de alto nivel y multiparadigma<i> (soporta programación orientada a objetos, programación funcional, programación estructurada y programación imperativa).</i> </br>\n",
    "Fue diseñado en 1991 por Guido van Rossum. El lenguaje Python es fácil de aprender y de leer siendo uno de los lenguajes de programación más utilizados en el mundo. \n",
    "\n",
    "Se usa para muchas aplicaciones, desde la creación de aplicaciones web hasta la creación de scripts para automatizar tareas. </br>En el mundo de los datos, Python se usa para la manipulación de datos, análisis de datos, visualización de datos y desarrollo de Machine Learning e inteligencia artificial.\n",
    "\n",
    "Las principales ventajas de usar Python para el análisis de datos son su flexibilidad, su extensa biblioteca de herramientas de análisis de datos, su gran comunidad y su soporte para la automatización.</br> El lenguaje Python también es escalable, lo que significa que se puede usar para tareas pequeñas como para tareas grandes consiguiendo ser un lenguaje fácil de aprender y donde los errores son fáciles de detectar.</br> Su web oficial es : https://www.python.org/\n",
    "</br></br></br>"
   ]
  },
  {
   "attachments": {},
   "cell_type": "markdown",
   "metadata": {},
   "source": [
    "\n",
    "<center><u><FONT COLOR=\"white\"> Fundamentos de programación en Python, \"El Zen de Python\": </FONT></center>  "
   ]
  },
  {
   "attachments": {},
   "cell_type": "markdown",
   "metadata": {},
   "source": [
    "<center>El Zen de Python es una lista de principios filosóficos que guían el estilo de programación en este lenguaje.</br>\n",
    "Estos principios son una forma de orientar la elección de estilo para los programadores de Python creando una forma de recordar</br> que hay mejores formas de escribir código Python, tales como mantenerlo simple, legible y conciso.</br> Se promueve la importancia de la creatividad en la programación y el uso de la abstracción para crear código más eficiente.</center>"
   ]
  },
  {
   "cell_type": "code",
   "execution_count": 2,
   "metadata": {},
   "outputs": [],
   "source": [
    "#Cuando quieras recordarlo, escribe este código:\n",
    "import this"
   ]
  },
  {
   "attachments": {},
   "cell_type": "markdown",
   "metadata": {},
   "source": [
    "<center><u><FONT COLOR=\"white\"> Comentarios en Python:</FONT></center>  "
   ]
  },
  {
   "attachments": {},
   "cell_type": "markdown",
   "metadata": {},
   "source": [
    "##### Los comentarios son una herramienta importante para hacer que tu código sea más legible y comprensible para otras personas, recuerda que cuando programamos lo hacemos pensando siempre en el factor humano por eso debemos evitar nombres complicados, buscar lo simple, efectivo y comentarlo, podemos encontrar en Python 3 usos principales para nuestros comentarios: \n"
   ]
  },
  {
   "attachments": {},
   "cell_type": "markdown",
   "metadata": {},
   "source": [
    "<center>Comentarios de una línea: \n",
    "\n",
    "Se utilizan para hacer comentarios breves o aclaraciones en una línea de código. Para ello, se utiliza el símbolo \"#\" seguido del comentario.</center>"
   ]
  },
  {
   "cell_type": "code",
   "execution_count": 3,
   "metadata": {},
   "outputs": [
    {
     "name": "stdout",
     "output_type": "stream",
     "text": [
      "Hola mundo\n"
     ]
    }
   ],
   "source": [
    "# Esto es un comentario de una línea\n",
    "print(\"Hola mundo\") # También se pueden agregar comentarios después de una instrucción"
   ]
  },
  {
   "attachments": {},
   "cell_type": "markdown",
   "metadata": {},
   "source": [
    "<center>Comentarios de varias líneas:\n",
    "\n",
    "Se utilizan para hacer comentarios más largos o detallados, y se escriben entre tres comillas dobles al inicio y al final del comentario.</center>"
   ]
  },
  {
   "cell_type": "code",
   "execution_count": 3,
   "metadata": {},
   "outputs": [
    {
     "name": "stdout",
     "output_type": "stream",
     "text": [
      "Hola mundo\n"
     ]
    }
   ],
   "source": [
    "\"\"\"\n",
    "Esto es un comentario de varias líneas. \n",
    "Aquí se pueden agregar más detalles y explicaciones. \n",
    "\"\"\"\n",
    "\n",
    "print(\"Hola mundo\")"
   ]
  },
  {
   "attachments": {},
   "cell_type": "markdown",
   "metadata": {},
   "source": [
    "<center>Comentarios de documentación:\n",
    "\n",
    "Estos comentarios se escriben en el encabezado de la función, método, clase o módulo, y se deben seguir ciertas convenciones</br> para que puedan ser utilizados por herramientas de documentación como Sphinx o Doxygen.</center>"
   ]
  },
  {
   "cell_type": "code",
   "execution_count": 4,
   "metadata": {},
   "outputs": [],
   "source": [
    "def suma(a, b):\n",
    "    \"\"\"\n",
    "    Esta función recibe dos números como argumentos y devuelve su suma.\n",
    "    \"\"\"\n",
    "    return a + b"
   ]
  },
  {
   "attachments": {},
   "cell_type": "markdown",
   "metadata": {},
   "source": [
    "<center><u><FONT COLOR=\"white\"> Sintaxis básica de Python:</FONT></center>  "
   ]
  },
  {
   "attachments": {},
   "cell_type": "markdown",
   "metadata": {},
   "source": [
    "##### TIPOS DE VARIABLES:\n",
    "\n",
    "Laas variables se utilizan para almacenar diferentes tipos de datos, en Python utilizamos el símbolo \"=\" para declararlas,</br> lo que esté a la izquierda de este símbolo es el nombre de nuestra variable mientras que lo que esté a la derecha de este símbolo son los datos que contienen:</br>"
   ]
  },
  {
   "cell_type": "code",
   "execution_count": 5,
   "metadata": {},
   "outputs": [],
   "source": [
    "\"\"\"\n",
    "Números: int, float\n",
    "Las variables numéricas se utilizan para almacenar valores numéricos. \n",
    "El tipo \"int\" se utiliza para números enteros y \"float\" para números decimales.\n",
    "\"\"\"\n",
    "edad = 25 # (int)\n",
    "altura = 1.75 # (float)\n",
    "\n",
    "\n",
    "# Operaciones aritméticas básicas\n",
    "suma = edad + 5\n",
    "resta = altura - 0.1\n",
    "multiplicacion = edad * 2\n",
    "division = edad / 2\n",
    "modulo = edad % 2\n",
    "potencia = edad ** 2\n",
    "\n",
    "# Comparaciones numéricas\n",
    "es_mayor = edad > 18\n",
    "es_menor = edad < 18\n",
    "es_igual = edad == 25\n",
    "es_diferente = edad != 30\n",
    "\n",
    "# Conversión entre tipos numéricos\n",
    "entero_a_float = float(edad)\n",
    "decimal_a_entero = int(altura)\n",
    "\n",
    "# Redondeo de números decimales\n",
    "redondeo = round(altura, 1)  # Redondea a 1 decimal\n",
    "\n",
    "# Operaciones matemáticas avanzadas (usando el módulo math)\n",
    "import math\n",
    "\n",
    "raiz_cuadrada = math.sqrt(edad)\n",
    "factorial = math.factorial(5)\n",
    "seno = math.sin(math.radians(30))  # Calcular el seno de 30 grados"
   ]
  },
  {
   "cell_type": "code",
   "execution_count": 21,
   "metadata": {},
   "outputs": [
    {
     "name": "stdout",
     "output_type": "stream",
     "text": [
      "L\n",
      "o\n",
      "r\n",
      "e\n",
      "m\n",
      " \n",
      "i\n",
      "p\n",
      "s\n",
      "u\n",
      "m\n"
     ]
    }
   ],
   "source": [
    "\"\"\"\n",
    "Cadenas (str): Las variables de cadena se utilizan para almacenar texto. Se pueden crear utilizando comillas simples o dobles.\n",
    "\"\"\"\n",
    "\n",
    "texto1 = 'Lorem ipsum' # Puede ser con comillas simples\n",
    "texto2 = \"Lorem ipsum\" # O con dobles comillas (no deben mezclarse)\n",
    "\n",
    "# Cadenas multilínea\n",
    "texto_multilinea = \"\"\"Lorem ipsum dolor sit amet,\n",
    "consectetur adipiscing elit,\n",
    "sed do eiusmod tempor incididunt.\"\"\"\n",
    "\n",
    "# Acceder a un carácter en una cadena por índice\n",
    "primer_caracter = texto1[0]\n",
    "\n",
    "# Longitud de una cadena\n",
    "longitud = len(texto1)\n",
    "\n",
    "# Concatenar cadenas\n",
    "texto_concatenado = texto1 + \" dolor sit amet\"\n",
    "\n",
    "# Repetir una cadena\n",
    "texto_repetido = texto1 * 3\n",
    "\n",
    "# Interpolación de cadenas (usando f-strings en Python 3.6+)\n",
    "nombre = \"Juan\"\n",
    "edad = 30\n",
    "texto_interpolado = f\"{nombre} tiene {edad} años\"\n",
    "\n",
    "# Métodos útiles de la clase str\n",
    "texto_mayusculas = texto1.upper()\n",
    "texto_minusculas = texto1.lower()\n",
    "texto_reemplazado = texto1.replace(\"ipsum\", \"example\")\n",
    "palabras = texto1.split(\" \")\n",
    "\n",
    "# Verificar si una cadena contiene una subcadena\n",
    "contiene_subcadena = \"ipsum\" in texto1\n",
    "\n",
    "# Verificar si una cadena comienza o termina con una subcadena\n",
    "comienza_con = texto1.startswith(\"Lorem\")\n",
    "termina_con = texto1.endswith(\"ipsum\")\n",
    "\n",
    "# Iterar sobre los caracteres de una cadena\n",
    "for caracter in texto1:\n",
    "    print(caracter)\n"
   ]
  },
  {
   "cell_type": "code",
   "execution_count": 20,
   "metadata": {},
   "outputs": [],
   "source": [
    "\"\"\"\n",
    "Booleanos (bool): Las variables booleanas se utilizan para representar valores de verdad o falsedad.\n",
    " Solo existen dos valores posibles: True y False.\n",
    "\"\"\"\n",
    "\n",
    "es_mayor = True # (booleano verdadero)\n",
    "es_igual = False # (booleano falso)\n",
    "\n",
    "# Operadores de comparación que devuelven valores booleanos\n",
    "x = 5\n",
    "y = 3\n",
    "resultado_1 = x > y  # True\n",
    "resultado_2 = x == y  # False\n",
    "\n",
    "# Operadores lógicos que devuelven valores booleanos\n",
    "verdadero = True\n",
    "falso = False\n",
    "resultado_3 = verdadero and falso  # False\n",
    "resultado_4 = verdadero or falso  # True\n",
    "resultado_5 = not verdadero  # False\n",
    "\n",
    "# Valores que se evalúan como False en un contexto booleano\n",
    "booleano_falso = bool(False)\n",
    "entero_cero = bool(0)\n",
    "decimal_cero = bool(0.0)\n",
    "cadena_vacia = bool(\"\")\n",
    "lista_vacia = bool([])\n",
    "tupla_vacia = bool(())\n",
    "diccionario_vacio = bool({})\n",
    "\n",
    "# Valores que se evalúan como True en un contexto booleano\n",
    "booleano_verdadero = bool(True)\n",
    "entero_no_cero = bool(42)\n",
    "decimal_no_cero = bool(3.14)\n",
    "cadena_no_vacia = bool(\"Hola\")\n",
    "lista_no_vacia = bool([1, 2, 3])\n",
    "tupla_no_vacia = bool((1, 2, 3))\n",
    "diccionario_no_vacio = bool({\"nombre\": \"Juan\"})\n",
    "\n"
   ]
  },
  {
   "cell_type": "code",
   "execution_count": 17,
   "metadata": {},
   "outputs": [
    {
     "name": "stdout",
     "output_type": "stream",
     "text": [
      "Ensalada\n",
      "Tacos\n",
      "Sushi\n"
     ]
    }
   ],
   "source": [
    "\"\"\"\n",
    "Listas[list]: Las variables de lista se utilizan para almacenar una colección ordenada de valores. Se pueden modificar después de su creación.\n",
    "Pueden contener valores de varios tipos numéricos y cadenas, de forma mixta, siempre que se separen por comas.\n",
    "\"\"\"\n",
    "\n",
    "comidas = [\"Pizza\", \"Milanesas\", \"Milanesas napolitanas\"] # [\"elemento1\",\"elemento2\",\"elemento3\", ect.]\n",
    "numeros = [1, 2, 3] #[\"elemento1\",\"elemento2\",\"elemento3\", ect.]\n",
    "mixta = [5, \"clavos\", 7.2] # [\"elemento1\",\"elemento2\",\"elemento3\", ect.]\n",
    "\n",
    "# Acceder a un elemento de la lista por índice\n",
    "comida_favorita = comidas[0]\n",
    "\n",
    "# Modificar un elemento de la lista\n",
    "comidas[1] = \"Tacos\"\n",
    "\n",
    "# Añadir un elemento al final de la lista\n",
    "comidas.append(\"Sushi\")\n",
    "\n",
    "# Insertar un elemento en una posición específica\n",
    "comidas.insert(1, \"Ensalada\")\n",
    "\n",
    "# Eliminar un elemento de la lista por su valor\n",
    "comidas.remove(\"Milanesas napolitanas\")\n",
    "\n",
    "# Eliminar un elemento de la lista por su índice\n",
    "del comidas[0]\n",
    "\n",
    "# Verificar si un elemento está en la lista\n",
    "comida_presente = \"Pizza\" in comidas\n",
    "\n",
    "# Longitud de la lista\n",
    "longitud = len(numeros)\n",
    "\n",
    "# Ordenar una lista\n",
    "numeros.sort()\n",
    "\n",
    "# Invertir el orden de una lista\n",
    "numeros.reverse()\n",
    "\n",
    "# Crear una lista vacía\n",
    "lista_vacia = []\n",
    "\n",
    "# Iterar sobre los elementos de una lista\n",
    "for comida in comidas:\n",
    "    print(comida)\n",
    "\n",
    "# Listas por comprensión (creación de listas de forma más concisa)\n",
    "cuadrados = [x**2 for x in range(1, 6)]\n",
    "\n"
   ]
  },
  {
   "cell_type": "code",
   "execution_count": 16,
   "metadata": {},
   "outputs": [
    {
     "name": "stdout",
     "output_type": "stream",
     "text": [
      "Pizza\n",
      "Milanesas\n",
      "Milanesas napolitanas\n"
     ]
    }
   ],
   "source": [
    "\"\"\"\n",
    "Tuplas (tuple): Las variables de tupla son similares a las variables de lista, pero son inmutables después de su creación.(No se pueden modificar)\n",
    "\"\"\"\n",
    "comidas = (\"Pizza\", \"Milanesas\", \"Milanesas napolitanas\")\n",
    "numeros = (3, 4, 5)\n",
    "mixta = (10, \"clavos\", True) \n",
    "\n",
    "# Acceder a un elemento de la tupla por índice\n",
    "comida_favorita = comidas[0]\n",
    "\n",
    "# Longitud de la tupla\n",
    "longitud = len(numeros)\n",
    "\n",
    "# Contar la cantidad de veces que aparece un elemento en la tupla\n",
    "cantidad_milanesas = comidas.count(\"Milanesas\")\n",
    "\n",
    "# Encontrar el índice de un elemento en la tupla\n",
    "indice_milanesas = comidas.index(\"Milanesas\")\n",
    "\n",
    "# Desempaquetar (unpack) una tupla en variables\n",
    "a, b, c = numeros\n",
    "\n",
    "# Crear una tupla con un solo elemento (necesita una coma después del elemento)\n",
    "tupla_un_elemento = (\"elemento\",)\n",
    "\n",
    "# Iterar sobre los elementos de una tupla\n",
    "for elemento in comidas:\n",
    "    print(elemento)"
   ]
  },
  {
   "cell_type": "code",
   "execution_count": 10,
   "metadata": {},
   "outputs": [
    {
     "name": "stdout",
     "output_type": "stream",
     "text": [
      "nombre: Juan\n",
      "edad: 26\n",
      "ocupacion: Programador\n"
     ]
    }
   ],
   "source": [
    "\"\"\"\n",
    "Diccionarios (dict): Las variables de diccionario se utilizan para almacenar una colección de pares clave-valor.(Las claves deben ser únicas)\n",
    "\"\"\"\n",
    "persona = {\n",
    "    'nombre': 'Juan', \n",
    "    'edad': 25, \n",
    "    'ciudad': 'Madrid'\n",
    "           } \n",
    "\n",
    "# Acceder a un valor utilizando su clave\n",
    "nombre = persona['nombre']\n",
    "\n",
    "# Modificar el valor asociado a una clave\n",
    "persona['edad'] = 26\n",
    "\n",
    "# Agregar un nuevo par clave-valor al diccionario\n",
    "persona['ocupacion'] = 'Programador'\n",
    "\n",
    "# Eliminar un par clave-valor del diccionario\n",
    "del persona['ciudad']\n",
    "\n",
    "# Verificar si una clave está presente en el diccionario\n",
    "tiene_nombre = 'nombre' in persona\n",
    "\n",
    "# Obtener todas las claves del diccionario\n",
    "claves = persona.keys()\n",
    "\n",
    "# Obtener todos los valores del diccionario\n",
    "valores = persona.values()\n",
    "\n",
    "# Obtener todos los pares clave-valor como una lista de tuplas\n",
    "items = persona.items()\n",
    "\n",
    "# Iterar sobre los pares clave-valor en un diccionario\n",
    "for clave, valor in persona.items():\n",
    "    print(f\"{clave}: {valor}\")\n",
    "\n"
   ]
  },
  {
   "attachments": {},
   "cell_type": "markdown",
   "metadata": {},
   "source": [
    "##### OPERADORES ARITMÉTICOS:"
   ]
  },
  {
   "attachments": {},
   "cell_type": "markdown",
   "metadata": {},
   "source": [
    "Los operadores aritméticos en Python se utilizan para realizar operaciones matemáticas básicas:</br>\n",
    "Suma (+): Se utiliza para sumar dos valores.</br>\n",
    "Resta (-): Se utiliza para restar un valor de otro.</br>\n",
    "Multiplicación (*): Se utiliza para multiplicar dos valores.</br>\n",
    "División (/): Se utiliza para dividir un valor por otro.</br>\n",
    "División entera (//): Se utiliza para dividir un valor por otro y redondear el resultado hacia abajo al entero más cercano.</br>\n",
    "Módulo (%): Se utiliza para obtener el resto de una división.</br>\n",
    "Exponente (**): Se utiliza para elevar un valor a la potencia de otro.\n"
   ]
  },
  {
   "cell_type": "code",
   "execution_count": 22,
   "metadata": {},
   "outputs": [
    {
     "name": "stdout",
     "output_type": "stream",
     "text": [
      "La suma da 8 , la resta da 2 , la multiplicación da 15 , la división da 1.6666666666666667 , la división entera da 1 , el módulo da 2 , el exponente da 125\n"
     ]
    }
   ],
   "source": [
    "x = 5\n",
    "y = 3\n",
    "suma = x + y\n",
    "resta = x - y\n",
    "multiplicacion = x * y\n",
    "division = x / y\n",
    "division_entera = x // y\n",
    "modulo = x % y\n",
    "exponente = x ** y\n",
    "\n",
    "print(\"La suma da\", suma, \", la resta da\", resta, \", la multiplicación da\", multiplicacion, \", la división da\", division, \", la división entera da\", division_entera, \", el módulo da\", modulo, \", el exponente da\", exponente)"
   ]
  },
  {
   "attachments": {},
   "cell_type": "markdown",
   "metadata": {},
   "source": [
    "##### OPERADORES DE COMPARACIÓN:\n",
    "\n",
    "Los operadores de comparación se utilizan para comparar dos valores y devolver un resultado booleano (True o False):</br>\n",
    "Igual que (==): Se utiliza para comprobar si dos valores son iguales.</br>\n",
    "Diferente que (!=): Se utiliza para comprobar si dos valores son diferentes.</br>\n",
    "Mayor que (>): Se utiliza para comprobar si un valor es mayor que otro.</br>\n",
    "Menor que (<): Se utiliza para comprobar si un valor es menor que otro.</br>\n",
    "Mayor o igual que (>=): Se utiliza para comprobar si un valor es mayor o igual que otro.</br>\n",
    "Menor o igual que (<=): Se utiliza para comprobar si un valor es menor o igual que otro.</br>\n"
   ]
  },
  {
   "cell_type": "code",
   "execution_count": 23,
   "metadata": {},
   "outputs": [
    {
     "name": "stdout",
     "output_type": "stream",
     "text": [
      "¿Son iguales? False\n",
      "¿Son diferentes? True\n",
      "¿Es 5 mayor que 3? True\n",
      "¿Es 5 menor que 3? False\n",
      "¿Es 5 mayor o igual que 3? True\n",
      "¿Es 5 menor o igual que 3? False\n"
     ]
    }
   ],
   "source": [
    "x = 5\n",
    "y = 3\n",
    "\n",
    "igual = x == y\n",
    "diferente = x != y\n",
    "mayor = x > y\n",
    "menor = x < y\n",
    "mayor_o_igual = x >= y\n",
    "menor_o_igual = x <= y\n",
    "\n",
    "print(\"¿Son iguales?\", igual)\n",
    "print(\"¿Son diferentes?\", diferente)\n",
    "print(f\"¿Es {x} mayor que {y}?\", mayor)\n",
    "print(f\"¿Es {x} menor que {y}?\", menor)\n",
    "print(f\"¿Es {x} mayor o igual que {y}?\", mayor_o_igual)\n",
    "print(f\"¿Es {x} menor o igual que {y}?\", menor_o_igual)"
   ]
  },
  {
   "attachments": {},
   "cell_type": "markdown",
   "metadata": {},
   "source": [
    "##### OPERADORES LÓGICOS:\n",
    "\n",
    "Los operadores lógicos se utilizan para combinar expresiones booleanas y devolver un resultado booleano. </br>\n",
    "Los operadores lógicos son:</br>\n",
    "And: Devuelve True si ambas expresiones son verdaderas.</br>\n",
    "Or: Devuelve True si al menos una de las expresiones es verdadera.</br>\n",
    "Not: Devuelve el valor opuesto de una expresión booleana.</br>"
   ]
  },
  {
   "cell_type": "code",
   "execution_count": 13,
   "metadata": {},
   "outputs": [
    {
     "name": "stdout",
     "output_type": "stream",
     "text": [
      "Resultado de la operación AND:  True\n",
      "Resultado de la operación OR:  True\n",
      "Resultado de la operación NOT:  True\n"
     ]
    }
   ],
   "source": [
    "# Asignar valores a las variables\n",
    "x = 5\n",
    "y = 3\n",
    "z = 7\n",
    "\n",
    "# Evaluar expresiones booleanas utilizando operadores lógicos\n",
    "and_result = x > y and y < z\n",
    "or_result = x < y or y < z\n",
    "not_result = not x < y\n",
    "\n",
    "# Imprimir los resultados de las expresiones booleanas\n",
    "print(\"Resultado de la operación AND: \", and_result)\n",
    "print(\"Resultado de la operación OR: \", or_result)\n",
    "print(\"Resultado de la operación NOT: \", not_result)"
   ]
  },
  {
   "attachments": {},
   "cell_type": "markdown",
   "metadata": {},
   "source": [
    "##### EXPRESIONES:\n",
    "\n",
    "Las expresiones son combinaciones de valores, operadores y funciones que se evalúan y producen un resultado. </br>\n",
    "En Python, una expresión puede ser tan simple como una variable, o tan compleja como una función que realiza múltiples operaciones. </br>\n",
    "Las expresiones pueden utilizarse en cualquier lugar donde se espera un valor, como una asignación de variable o una llamada a una función.</br>"
   ]
  },
  {
   "cell_type": "code",
   "execution_count": 24,
   "metadata": {},
   "outputs": [
    {
     "name": "stdout",
     "output_type": "stream",
     "text": [
      "Resultado: 16\n",
      "Suma: 8\n",
      "Resta: 2\n",
      "Multiplicación: 15\n",
      "División: 1.6666666666666667\n",
      "Raíz cuadrada: 2.23606797749979\n",
      "Seno: 0.08715574274765817\n",
      "Comparación: False\n",
      "Igualdad: False\n",
      "Expresión booleana: True\n",
      "Máximo: 5\n"
     ]
    }
   ],
   "source": [
    "x = 5\n",
    "y = 3\n",
    "\n",
    "resultado = (x + y) * 2\n",
    "\n",
    "# Expresiones aritméticas\n",
    "suma = x + y\n",
    "resta = x - y\n",
    "multiplicacion = x * y\n",
    "division = x / y\n",
    "\n",
    "# Expresiones con funciones\n",
    "import math\n",
    "raiz_cuadrada = math.sqrt(x)\n",
    "seno = math.sin(math.radians(x))  # Calcular el seno de x grados (convertir a radianes primero)\n",
    "\n",
    "# Expresiones con operadores de comparación\n",
    "comparacion = x < y\n",
    "igualdad = x == y\n",
    "\n",
    "# Expresiones booleanas\n",
    "expresion_booleana = (x > 3) and (y < 4)\n",
    "\n",
    "# Expresiones con operadores ternarios (operador condicional)\n",
    "maximo = x if x > y else y\n",
    "\n",
    "# Imprimir resultados de las expresiones\n",
    "print(\"Resultado:\", resultado)\n",
    "print(\"Suma:\", suma)\n",
    "print(\"Resta:\", resta)\n",
    "print(\"Multiplicación:\", multiplicacion)\n",
    "print(\"División:\", division)\n",
    "print(\"Raíz cuadrada:\", raiz_cuadrada)\n",
    "print(\"Seno:\", seno)\n",
    "print(\"Comparación:\", comparacion)\n",
    "print(\"Igualdad:\", igualdad)\n",
    "print(\"Expresión booleana:\", expresion_booleana)\n",
    "print(\"Máximo:\", maximo)\n"
   ]
  },
  {
   "attachments": {},
   "cell_type": "markdown",
   "metadata": {},
   "source": [
    "##### EXPRESIONES:\n",
    "\n",
    "\n",
    "La conversión de tipos de datos, también conocida como \"casting\", es un proceso en el que se cambia el tipo de dato de una variable a otro tipo. </br>\n",
    "En Python, puedes utilizar funciones incorporadas para convertir tipos de datos. Algunas de las funciones más comunes son: </br>\n",
    "\n",
    "int(): Convierte un número o una cadena que contiene un número entero a un tipo int. </br>\n",
    "float(): Convierte un número o una cadena que contiene un número decimal a un tipo float. </br>\n",
    "str(): Convierte un número u otro tipo de dato a una cadena. </br>\n",
    "list(): Convierte un iterable (tupla, conjunto, cadena, etc.) a una lista. </br>\n",
    "tuple(): Convierte un iterable (lista, conjunto, cadena, etc.) a una tupla. </br>\n",
    "\n",
    "Ten en cuenta que, al realizar conversiones de tipos de datos, es posible encontrar errores si los datos no son compatibles con el tipo de dato al que se intenta convertir.</br> Por ejemplo, si intentas convertir una cadena que contiene caracteres no numéricos a un número entero o decimal, se generará un error. </br> Asegúrate de que los datos sean compatibles con el tipo de dato al que se intenta convertir antes de realizar la conversión.\n"
   ]
  },
  {
   "cell_type": "code",
   "execution_count": 28,
   "metadata": {},
   "outputs": [
    {
     "name": "stdout",
     "output_type": "stream",
     "text": [
      "Cadena: 5\n",
      "Cadena: 3.14\n",
      "Entero: 42\n",
      "Decimal: 3.14\n",
      "Lista: [1, 2, 3]\n",
      "Tupla: (1, 2, 3)\n",
      "Ten en cuenta que, al realizar conversiones de tipos de datos, es posible encontrar errores si los datos no son compatibles con el tipo de dato al que se intenta convertir. \n",
      " Por ejemplo, si intentas convertir una cadena que contiene caracteres no numéricos a un número entero o decimal, se generará un error. \n",
      " Asegúrate de que los datos sean compatibles con el tipo de dato al que se intenta convertir antes de realizar la conversión.\n"
     ]
    }
   ],
   "source": [
    "# Conversión de un número entero a una cadena\n",
    "numero_entero = 5\n",
    "cadena_entero = str(numero_entero)\n",
    "print(\"Cadena:\", cadena_entero)\n",
    "\n",
    "# Conversión de un número decimal (float) a una cadena\n",
    "numero_decimal = 3.14\n",
    "cadena_decimal = str(numero_decimal)\n",
    "print(\"Cadena:\", cadena_decimal)\n",
    "\n",
    "# Conversión de una cadena a un número entero\n",
    "cadena_numero = \"42\"\n",
    "entero_numero = int(cadena_numero)\n",
    "print(\"Entero:\", entero_numero)\n",
    "\n",
    "# Conversión de una cadena a un número decimal (float)\n",
    "cadena_decimal = \"3.14\"\n",
    "decimal_numero = float(cadena_decimal)\n",
    "print(\"Decimal:\", decimal_numero)\n",
    "\n",
    "# Conversión de una tupla a una lista\n",
    "tupla_datos = (1, 2, 3)\n",
    "lista_datos = list(tupla_datos)\n",
    "print(\"Lista:\", lista_datos)\n",
    "\n",
    "# Conversión de una lista a una tupla\n",
    "lista_datos = [1, 2, 3]\n",
    "tupla_datos = tuple(lista_datos)\n",
    "print(\"Tupla:\", tupla_datos)\n",
    "\n"
   ]
  }
 ],
 "metadata": {
  "kernelspec": {
   "display_name": "Python 3",
   "language": "python",
   "name": "python3"
  },
  "language_info": {
   "codemirror_mode": {
    "name": "ipython",
    "version": 3
   },
   "file_extension": ".py",
   "mimetype": "text/x-python",
   "name": "python",
   "nbconvert_exporter": "python",
   "pygments_lexer": "ipython3",
   "version": "3.11.9"
  },
  "orig_nbformat": 4
 },
 "nbformat": 4,
 "nbformat_minor": 2
}
