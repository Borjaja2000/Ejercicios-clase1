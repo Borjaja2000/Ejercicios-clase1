{
 "cells": [
  {
   "attachments": {},
   "cell_type": "markdown",
   "metadata": {},
   "source": [
    "<!DOCTYPE html>\n",
    "<html>\n",
    "<head>\n",
    "</head>\n",
    "<body>\n",
    "\n",
    "<div style=\"display: flex; justify-content: center; align-items: center; font-family: Arial, sans-serif; margin-top: 20px; margin-bottom: 20px;\">\n",
    "  <div style=\"text-align: right;\">\n",
    "    <div style=\"font-size: 24px; font-weight: bold; color: white; margin-left:20px;\">PREWORK BOOTCAMP DATA ANALYTICS</div>\n",
    "    <div style=\"font-size: 18px; font-weight: bold; margin-left: 20px;\">CUARTO BLOQUE: PROGRAMACIÓN ORIENTADA A OBJETOS</div>\n",
    "  </div>\n",
    "  <div style=\"text-align: right;\">\n",
    "    <img src=\"https://d1fdloi71mui9q.cloudfront.net/S8HhvUnnRgmjyhySHtWl_ZQMaRWd21TfV5AsU\" width=\"100\" height=\"100\">\n",
    "  </div>\n",
    "  <div style=\"text-align: left;\">\n",
    "    <div style=\"font-size: 24px; font-weight: bold; color: white; margin-left:20px;\">UPGRADE-HUB</div>\n",
    "    <div style=\"font-size: 18px; font-weight: bold; margin-left: 20px;\">coordinacion.data@bootcamp-upgrade.com</div>\n",
    "  </div>\n",
    "</div>\n",
    "\n",
    "</body>\n",
    "</html>"
   ]
  },
  {
   "attachments": {},
   "cell_type": "markdown",
   "metadata": {},
   "source": [
    "## Programación orientada a objetos en Python\n",
    "\n"
   ]
  },
  {
   "attachments": {},
   "cell_type": "markdown",
   "metadata": {},
   "source": [
    "La programación orientada a objetos (OOP) es un paradigma que se basa en la idea de organizar el código en \"objetos\" que representan entidades del mundo real y las interacciones entre ellos. Python es un lenguaje de programación que admite la OOP, lo que permite a los programadores trabajar con clases y objetos."
   ]
  },
  {
   "attachments": {},
   "cell_type": "markdown",
   "metadata": {},
   "source": [
    "<h2>Conceptos básicos de programación orientada a objetos</h2>\n",
    "\n",
    "<dl>\n",
    "  <dt>Clase</dt>\n",
    "  <dd>Una clase es una plantilla o modelo que define las características y comportamientos comunes de un conjunto de objetos. Las clases actúan como planos para crear objetos.</dd>\n",
    "\n",
    "  <dt>Objeto</dt>\n",
    "  <dd>Un objeto es una instancia de una clase, que representa una entidad concreta con un estado y un comportamiento específicos.</dd>\n",
    "\n",
    "  <dt>Atributo</dt>\n",
    "  <dd>Los atributos son variables que pertenecen a un objeto y describen el estado o las propiedades de un objeto.</dd>\n",
    "\n",
    "  <dt>Método</dt>\n",
    "  <dd>Los métodos son funciones que pertenecen a un objeto y definen el comportamiento de un objeto.</dd>\n",
    "\n",
    "  <dt>Herencia</dt>\n",
    "  <dd>La herencia es un mecanismo que permite a una clase derivar propiedades y comportamientos de otra clase. La clase que hereda se llama subclase y la clase de la que hereda se llama superclase.</dd>\n",
    "\n",
    "  <dt>Polimorfismo</dt>\n",
    "  <dd>El polimorfismo es la capacidad de utilizar una única interfaz para representar diferentes tipos de objetos o realizar diferentes acciones en función del tipo de objeto.</dd>\n",
    "</dl>\n"
   ]
  },
  {
   "attachments": {},
   "cell_type": "markdown",
   "metadata": {},
   "source": [
    "### Clases y objetos en Python"
   ]
  },
  {
   "cell_type": "code",
   "execution_count": 1,
   "metadata": {},
   "outputs": [],
   "source": [
    "\"\"\" Para definir una clase en Python, se utiliza la palabra clave class, seguida del nombre de la clase y dos puntos. \n",
    "Los atributos y métodos se definen dentro de la clase con una indentación de cuatro espacios.\"\"\"\n",
    "\n",
    "class Coche:\n",
    "    def __init__(self, marca, modelo):\n",
    "        self.marca = marca\n",
    "        self.modelo = modelo\n",
    "\n",
    "    def describir_coche(self):\n",
    "        print(f\"Este coche es un {self.marca} {self.modelo}.\")\n"
   ]
  },
  {
   "cell_type": "code",
   "execution_count": 2,
   "metadata": {},
   "outputs": [],
   "source": [
    "\"\"\"Para crear un objeto en Python, se utiliza el nombre de la clase seguido de paréntesis y los argumentos necesarios.\"\"\"\n",
    "mi_coche = Coche(\"Toyota\", \"Corolla\")"
   ]
  },
  {
   "attachments": {},
   "cell_type": "markdown",
   "metadata": {},
   "source": [
    "### Métodos y atributos de clases\n",
    "\n"
   ]
  },
  {
   "cell_type": "code",
   "execution_count": 3,
   "metadata": {},
   "outputs": [
    {
     "name": "stdout",
     "output_type": "stream",
     "text": [
      "Toyota\n",
      "Este coche es un Toyota Corolla.\n"
     ]
    }
   ],
   "source": [
    "\"\"\"En el ejemplo anterior, marca y modelo son atributos de la clase Coche. __init__ es un método especial llamado constructor, que se ejecuta cuando se crea un \n",
    "objeto.describir_coche es un método que imprime la descripción del coche.\"\"\"\n",
    "#Para acceder a atributos y métodos de un objeto, se utiliza la notación de punto.\n",
    "\n",
    "print(mi_coche.marca)  \n",
    "mi_coche.describir_coche()  \n"
   ]
  },
  {
   "attachments": {},
   "cell_type": "markdown",
   "metadata": {},
   "source": [
    "### Herencia y polimorfismo\n",
    "\n"
   ]
  },
  {
   "cell_type": "code",
   "execution_count": 4,
   "metadata": {},
   "outputs": [],
   "source": [
    "\"\"\" La herencia permite crear clases que heredan atributos y métodos de otras clases. En Python, se utiliza la siguiente sintaxis para definir una subclase:\"\"\"\n",
    "\n",
    "class VehiculoElectrico(Coche):\n",
    "    def __init__(self, marca, modelo, autonomia):\n",
    "        super().__init__(marca, modelo)\n",
    "        self.autonomia = autonomia\n",
    "\n",
    "    def describir_coche(self):\n",
    "        print(f\"Este coche es un {self.marca} {self.modelo} con {self.autonomia} km de autonomía.\")\n"
   ]
  },
  {
   "attachments": {},
   "cell_type": "markdown",
   "metadata": {},
   "source": [
    "VehiculoElectrico es una subclase de Coche. Al heredar de Coche, VehiculoElectrico tiene acceso a sus atributos y métodos. La función super() se utiliza para llamar al constructor de la superclase. Hemos sobrescrito el método describir_coche para incluir información adicional sobre la autonomía del vehículo eléctrico.\n",
    "\n",
    "El polimorfismo se puede lograr en Python utilizando herencia y sobrescritura de métodos. En el ejemplo anterior, hemos sobrescrito el método describir_coche en la subclase VehiculoElectrico para proporcionar una implementación diferente de la que se encuentra en la superclase Coche."
   ]
  },
  {
   "cell_type": "code",
   "execution_count": 5,
   "metadata": {},
   "outputs": [
    {
     "name": "stdout",
     "output_type": "stream",
     "text": [
      "Este coche es un Tesla Model S con 600 km de autonomía.\n"
     ]
    }
   ],
   "source": [
    "#Aquí hay un ejemplo de cómo utilizar la clase VehiculoElectrico:\n",
    "mi_vehiculo_electrico = VehiculoElectrico(\"Tesla\", \"Model S\", 600)\n",
    "mi_vehiculo_electrico.describir_coche() \n"
   ]
  },
  {
   "attachments": {},
   "cell_type": "markdown",
   "metadata": {},
   "source": [
    "La herencia y el polimorfismo permiten a los programadores crear estructuras de código más flexibles y reutilizables, lo que facilita la adaptación a nuevas situaciones y la incorporación de nuevas funcionalidades."
   ]
  },
  {
   "attachments": {},
   "cell_type": "markdown",
   "metadata": {},
   "source": [
    "### Ejemplo completo de referencia: "
   ]
  },
  {
   "cell_type": "code",
   "execution_count": 8,
   "metadata": {},
   "outputs": [
    {
     "name": "stdout",
     "output_type": "stream",
     "text": [
      "Animal genérico:\n",
      "El animal hace un sonido\n",
      "Perro específico:\n",
      "El perro ladra\n",
      "Mi perro se llama Fido, tiene 5 años y es un Labrador.\n",
      "Gato específico:\n",
      "El gato maúlla\n",
      "El gato ronronea\n"
     ]
    }
   ],
   "source": [
    "# Clase Animal: representa un animal genérico\n",
    "class Animal:\n",
    "    def __init__(self, nombre, edad):\n",
    "        self.nombre = nombre  # Asignamos un nombre al animal\n",
    "        self.edad = edad  # Asignamos una edad al animal\n",
    "\n",
    "    def hablar(self):\n",
    "        print(\"El animal hace un sonido\")  # Este método imprime un mensaje genérico sobre el sonido del animal\n",
    "\n",
    "# Clase Perro: representa un perro específico que hereda de la clase Animal\n",
    "class Perro(Animal):\n",
    "    def __init__(self, nombre, edad, raza):\n",
    "        super().__init__(nombre, edad)  # Llamamos al constructor de la superclase (Animal) para inicializar nombre y edad\n",
    "        self.raza = raza  # Asignamos una raza al perro\n",
    "\n",
    "    def hablar(self):\n",
    "        print(\"El perro ladra\")  # Sobrescribimos el método hablar para imprimir un mensaje específico de un perro ladrando\n",
    "\n",
    "# Creamos un objeto Animal\n",
    "mi_animal = Animal(\"Rufus\", 3)\n",
    "print(\"Animal genérico:\")\n",
    "mi_animal.hablar()  # Llamamos al método hablar del objeto mi_animal (salida: \"El animal hace un sonido\")\n",
    "\n",
    "# Creamos un objeto Perro\n",
    "mi_perro = Perro(\"Fido\", 5, \"Labrador\")\n",
    "print(\"Perro específico:\")\n",
    "mi_perro.hablar()  # Llamamos al método hablar del objeto mi_perro (salida: \"El perro ladra\")\n",
    "\n",
    "# Imprimimos información sobre el perro\n",
    "print(f\"Mi perro se llama {mi_perro.nombre}, tiene {mi_perro.edad} años y es un {mi_perro.raza}.\")\n",
    "# Salida: Mi perro se llama Fido, tiene 5 años y es un Labrador.\n",
    "\n",
    "# Otro ejemplo: Clase Gato\n",
    "class Gato(Animal):\n",
    "    def __init__(self, nombre, edad, color):\n",
    "        super().__init__(nombre, edad)\n",
    "        self.color = color\n",
    "\n",
    "    def hablar(self):\n",
    "        print(\"El gato maúlla\")\n",
    "\n",
    "    def ronronear(self):\n",
    "        print(\"El gato ronronea\")\n",
    "\n",
    "# Creamos un objeto Gato\n",
    "mi_gato = Gato(\"Misty\", 2, \"gris\")\n",
    "print(\"Gato específico:\")\n",
    "mi_gato.hablar()  # Llamamos al método hablar del objeto mi_gato (salida: \"El gato maúlla\")\n",
    "mi_gato.ronronear()  # Llamamos al método ronronear del objeto mi_gato (salida: \"El gato ronronea\")\n",
    "\n"
   ]
  }
 ],
 "metadata": {
  "kernelspec": {
   "display_name": "Python 3",
   "language": "python",
   "name": "python3"
  },
  "language_info": {
   "codemirror_mode": {
    "name": "ipython",
    "version": 3
   },
   "file_extension": ".py",
   "mimetype": "text/x-python",
   "name": "python",
   "nbconvert_exporter": "python",
   "pygments_lexer": "ipython3",
   "version": "3.9.13"
  },
  "orig_nbformat": 4
 },
 "nbformat": 4,
 "nbformat_minor": 2
}
