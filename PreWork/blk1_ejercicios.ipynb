{
 "cells": [
  {
   "attachments": {},
   "cell_type": "markdown",
   "metadata": {},
   "source": [
    "<!DOCTYPE html>\n",
    "<html>\n",
    "<head>\n",
    "</head>\n",
    "<body>\n",
    "\n",
    "<div style=\"display: flex; justify-content: center; align-items: center; font-family: Arial, sans-serif; margin-top: 20px; margin-bottom: 20px;\">\n",
    "  <div style=\"text-align: right;\">\n",
    "    <div style=\"font-size: 24px; font-weight: bold; color: white; margin-left:20px;\">PREWORK BOOTCAMP DATA ANALYTICS</div>\n",
    "    <div style=\"font-size: 18px; font-weight: bold; margin-left: 20px;\">PRIMER BLOQUE: EJERCICIOS</div>\n",
    "  </div>\n",
    "  <div style=\"text-align: right;\">\n",
    "    <img src=\"https://d1fdloi71mui9q.cloudfront.net/S8HhvUnnRgmjyhySHtWl_ZQMaRWd21TfV5AsU\" width=\"100\" height=\"100\">\n",
    "  </div>\n",
    "  <div style=\"text-align: left;\">\n",
    "    <div style=\"font-size: 24px; font-weight: bold; color: white; margin-left:20px;\">UPGRADE-HUB</div>\n",
    "    <div style=\"font-size: 18px; font-weight: bold; margin-left: 20px;\">coordinacion.data@bootcamp-upgrade.com</div>\n",
    "  </div>\n",
    "</div>\n",
    "\n",
    "</body>\n",
    "</html>"
   ]
  },
  {
   "attachments": {},
   "cell_type": "markdown",
   "metadata": {},
   "source": [
    "### Ejercicio 1: Crear variables de diferentes tipos de datos\n",
    "\n",
    "Crea variables de los siguientes tipos de datos y asígnales valores:\n",
    "\n",
    "1. Número entero (int)\n",
    "2. Número decimal (float)\n",
    "3. Cadena de caracteres (str)\n",
    "4. Valor booleano (bool)"
   ]
  },
  {
   "cell_type": "code",
   "execution_count": 1,
   "metadata": {},
   "outputs": [],
   "source": [
    "edad = 24;\n",
    "altura = 1.88;\n",
    "nombre = \"Borja\";\n",
    "moreno = True;\n",
    "print(edad);\n",
    "print(altura);\n",
    "print(nombre);\n",
    "print(moreno);"
   ]
  },
  {
   "attachments": {},
   "cell_type": "markdown",
   "metadata": {},
   "source": [
    "### Ejercicio 2: Operaciones aritméticas básicas\n",
    "\n",
    "Dadas las variables `a = 10` y `b = 3`, realiza las siguientes operaciones y guarda los resultados en nuevas variables:\n",
    "\n",
    "1. Suma\n",
    "2. Resta\n",
    "3. Multiplicación\n",
    "4. División\n"
   ]
  },
  {
   "cell_type": "code",
   "execution_count": 4,
   "metadata": {},
   "outputs": [
    {
     "name": "stdout",
     "output_type": "stream",
     "text": [
      "13\n",
      "7\n",
      "30\n",
      "3.3333333333333335\n"
     ]
    }
   ],
   "source": [
    "a = 10;\n",
    "b = 3;\n",
    "suma = a+b;\n",
    "resta = a-b;\n",
    "multipilicacion = a*b;\n",
    "division = a/b;\n",
    "print(suma);\n",
    "print(resta);\n",
    "print(multipilicacion);\n",
    "print(division);"
   ]
  },
  {
   "attachments": {},
   "cell_type": "markdown",
   "metadata": {},
   "source": [
    "### Ejercicio 3: Listas\n",
    "\n",
    "Crea una lista de números enteros y realiza las siguientes operaciones:\n",
    "\n",
    "1. Añade un nuevo elemento al final de la lista.\n",
    "2. Inserta un elemento en una posición específica de la lista.\n",
    "3. Elimina un elemento de la lista.\n",
    "4. Obtiene la longitud de la lista.\n",
    "5. Accede a un elemento específico de la lista utilizando su índice."
   ]
  },
  {
   "cell_type": "code",
   "execution_count": 10,
   "metadata": {},
   "outputs": [
    {
     "name": "stdout",
     "output_type": "stream",
     "text": [
      "10\n",
      "[34, 8, 16, 13, 7, 25, 76, 54, 28, 10]\n"
     ]
    }
   ],
   "source": [
    "lista = [5,8,16,13,7,25,76,54,28];\n",
    "lista.append(10);\n",
    "lista.insert(1,34);\n",
    "lista.remove(5);\n",
    "print(len(lista));\n",
    "print(lista);"
   ]
  },
  {
   "attachments": {},
   "cell_type": "markdown",
   "metadata": {},
   "source": [
    "### Ejercicio 4: Tuplas\n",
    "\n",
    "Crea una tupla con diferentes tipos de datos (int, float, str, bool) y accede a sus elementos utilizando índices."
   ]
  },
  {
   "cell_type": "code",
   "execution_count": 11,
   "metadata": {},
   "outputs": [
    {
     "name": "stdout",
     "output_type": "stream",
     "text": [
      "10\n",
      "2.43\n",
      "texto\n",
      "True\n"
     ]
    }
   ],
   "source": [
    "tupla = (10, 2.43, \"texto\", True);\n",
    "print(tupla[0]);\n",
    "print(tupla[1]);\n",
    "print(tupla[2]);\n",
    "print(tupla[3]);"
   ]
  },
  {
   "attachments": {},
   "cell_type": "markdown",
   "metadata": {},
   "source": [
    "### Ejercicio 5: Diccionarios\n",
    "\n",
    "Crea un diccionario con al menos tres pares clave-valor y realiza las siguientes operaciones:\n",
    "\n",
    "1. Accede al valor de una clave específica.\n",
    "2. Cambia el valor de una clave específica.\n",
    "3. Agrega un nuevo par clave-valor al diccionario.\n",
    "4. Elimina un par clave-valor del diccionario."
   ]
  },
  {
   "cell_type": "code",
   "execution_count": 31,
   "metadata": {},
   "outputs": [
    {
     "name": "stdout",
     "output_type": "stream",
     "text": [
      "Borja\n",
      "nombre: Carlos\n",
      "edad: 24\n",
      "nacionalidad: Española\n"
     ]
    }
   ],
   "source": [
    "persona = {\n",
    "    'nombre': \"Borja\",\n",
    "    'edad': 24,\n",
    "    'altura': 1.75\n",
    "}\n",
    "nombre = persona['nombre'];\n",
    "print(nombre);\n",
    "persona['nombre'] = \"Carlos\";\n",
    "persona['nacionalidad'] = \"Española\";\n",
    "del persona['altura'];\n",
    "\n",
    "for clave, valor in persona.items():\n",
    "    print(f\"{clave}: {valor}\")\n",
    "\n"
   ]
  },
  {
   "attachments": {},
   "cell_type": "markdown",
   "metadata": {},
   "source": [
    "### Ejercicio 6: Operadores de comparación\n",
    "\n",
    "Dadas las variables `x = 5` e `y = 8`, utiliza operadores de comparación (==, !=, >, <, >=, <=) para comparar sus valores y guarda los resultados en variables booleanas."
   ]
  },
  {
   "cell_type": "code",
   "execution_count": 25,
   "metadata": {},
   "outputs": [
    {
     "name": "stdout",
     "output_type": "stream",
     "text": [
      "False\n",
      "True\n",
      "False\n",
      "True\n",
      "False\n",
      "True\n"
     ]
    }
   ],
   "source": [
    "x=5;\n",
    "y=8;\n",
    "igual = x==y;\n",
    "diferente = x!=y;\n",
    "mayor = x>y;\n",
    "menor = x<y;\n",
    "mayor_igual = x>=y;\n",
    "menor_igual = x<=y;\n",
    "\n",
    "print(igual);\n",
    "print(diferente);\n",
    "print(mayor);\n",
    "print(menor);\n",
    "print(mayor_igual);\n",
    "print(menor_igual);\n"
   ]
  },
  {
   "attachments": {},
   "cell_type": "markdown",
   "metadata": {},
   "source": [
    "### Ejercicio 7: Conversión de tipos de datos\n",
    "\n",
    "Practica la conversión de tipos de datos con las siguientes operaciones:\n",
    "\n",
    "1. Convierte un número entero a float.\n",
    "2. Convierte un número float a entero.\n",
    "3. Convierte un número a cadena.\n",
    "4. Convierte una cadena a número (si la cadena contiene un valor numérico válido)."
   ]
  },
  {
   "cell_type": "code",
   "execution_count": 36,
   "metadata": {},
   "outputs": [
    {
     "name": "stdout",
     "output_type": "stream",
     "text": [
      "13.0\n",
      "13\n",
      "13\n",
      "El número convertido es: 37.64\n"
     ]
    }
   ],
   "source": [
    "numero_entero = 13;\n",
    "numero_float = float(numero_entero);\n",
    "print(numero_float);\n",
    "numero_entero_convertido = int(numero_float);\n",
    "print(numero_entero_convertido);\n",
    "cadena = str(numero_entero);\n",
    "print(cadena);\n",
    "\n",
    "def convertir_a_numero(cadena):\n",
    "    try:\n",
    "        numero = float(cadena)\n",
    "        return numero\n",
    "    except ValueError:\n",
    "        return None\n",
    "\n",
    "cadena = \"37.64\"\n",
    "numero = convertir_a_numero(cadena)\n",
    "if numero is not None:\n",
    "    print(\"El número convertido es:\", numero)\n",
    "else:\n",
    "    print(\"La cadena no contiene un valor numérico válido.\")"
   ]
  }
 ],
 "metadata": {
  "kernelspec": {
   "display_name": "Python 3",
   "language": "python",
   "name": "python3"
  },
  "language_info": {
   "codemirror_mode": {
    "name": "ipython",
    "version": 3
   },
   "file_extension": ".py",
   "mimetype": "text/x-python",
   "name": "python",
   "nbconvert_exporter": "python",
   "pygments_lexer": "ipython3",
   "version": "3.12.2"
  },
  "orig_nbformat": 4
 },
 "nbformat": 4,
 "nbformat_minor": 2
}
