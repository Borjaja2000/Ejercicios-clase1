{
 "cells": [
  {
   "attachments": {},
   "cell_type": "markdown",
   "metadata": {},
   "source": [
    "<!DOCTYPE html>\n",
    "<html>\n",
    "<head>\n",
    "</head>\n",
    "<body>\n",
    "\n",
    "<div style=\"display: flex; justify-content: center; align-items: center; font-family: Arial, sans-serif; margin-top: 20px; margin-bottom: 20px;\">\n",
    "  <div style=\"text-align: right;\">\n",
    "    <div style=\"font-size: 24px; font-weight: bold; color: white; margin-left:20px;\">PREWORK BOOTCAMP DATA ANALYTICS</div>\n",
    "    <div style=\"font-size: 18px; font-weight: bold; margin-left: 20px;\">TERCER BLOQUE: EJERCICIOS</div>\n",
    "  </div>\n",
    "  <div style=\"text-align: right;\">\n",
    "    <img src=\"https://d1fdloi71mui9q.cloudfront.net/S8HhvUnnRgmjyhySHtWl_ZQMaRWd21TfV5AsU\" width=\"100\" height=\"100\">\n",
    "  </div>\n",
    "  <div style=\"text-align: left;\">\n",
    "    <div style=\"font-size: 24px; font-weight: bold; color: white; margin-left:20px;\">UPGRADE-HUB</div>\n",
    "    <div style=\"font-size: 18px; font-weight: bold; margin-left: 20px;\">coordinacion.data@bootcamp-upgrade.com</div>\n",
    "  </div>\n",
    "</div>\n",
    "\n",
    "</body>\n",
    "</html>"
   ]
  },
  {
   "attachments": {},
   "cell_type": "markdown",
   "metadata": {},
   "source": [
    "Escribir una función llamada imprimir_cuadrado que tome un número como argumento y muestre el cuadrado de ese número."
   ]
  },
  {
   "cell_type": "code",
   "execution_count": 2,
   "metadata": {},
   "outputs": [
    {
     "data": {
      "text/plain": [
       "16"
      ]
     },
     "execution_count": 2,
     "metadata": {},
     "output_type": "execute_result"
    }
   ],
   "source": [
    "def imprimir_cuadrado(numero):\n",
    "    return numero*numero\n",
    "\n",
    "imprimir_cuadrado(4)"
   ]
  },
  {
   "attachments": {},
   "cell_type": "markdown",
   "metadata": {},
   "source": [
    "Crear una función llamada es_multiplo que tome dos números como argumentos y retorne True si el primer número es múltiplo del segundo número, y False en caso contrario."
   ]
  },
  {
   "cell_type": "code",
   "execution_count": 6,
   "metadata": {},
   "outputs": [
    {
     "data": {
      "text/plain": [
       "True"
      ]
     },
     "execution_count": 6,
     "metadata": {},
     "output_type": "execute_result"
    }
   ],
   "source": [
    "def es_multiplo(numero1,numero2):\n",
    "    if(numero1%numero2==0):\n",
    "        return True\n",
    "    else:\n",
    "        return False\n",
    "    \n",
    "es_multiplo(6,3)"
   ]
  },
  {
   "attachments": {},
   "cell_type": "markdown",
   "metadata": {},
   "source": [
    "Escribir una función llamada invertir_lista que tome una lista como argumento y retorne la lista invertida."
   ]
  },
  {
   "cell_type": "code",
   "execution_count": 9,
   "metadata": {},
   "outputs": [
    {
     "data": {
      "text/plain": [
       "[5, 4, 3, 2, 1]"
      ]
     },
     "execution_count": 9,
     "metadata": {},
     "output_type": "execute_result"
    }
   ],
   "source": [
    "def invertir_lista(lista):\n",
    "    return lista[::-1]\n",
    "\n",
    "lista_creada = [1,2,3,4,5]\n",
    "invertir_lista(lista_creada)"
   ]
  },
  {
   "attachments": {},
   "cell_type": "markdown",
   "metadata": {},
   "source": [
    "Crear una función llamada contar_vocales que tome un string como argumento y retorne la cantidad de vocales en el string (no distinguir entre mayúsculas y minúsculas)."
   ]
  },
  {
   "cell_type": "code",
   "execution_count": 13,
   "metadata": {},
   "outputs": [
    {
     "data": {
      "text/plain": [
       "5"
      ]
     },
     "execution_count": 13,
     "metadata": {},
     "output_type": "execute_result"
    }
   ],
   "source": [
    "def contar_vocales(palabra):\n",
    "    vocales=0\n",
    "    for p in palabra:\n",
    "        if p in \"AEIOUaeiou\":\n",
    "            vocales+=1\n",
    "    return vocales\n",
    "\n",
    "contar_vocales(input(\"Introduce una palabra\"))"
   ]
  },
  {
   "attachments": {},
   "cell_type": "markdown",
   "metadata": {},
   "source": [
    "Escribir una función llamada suma_pares que tome una lista de números como argumento y retorne la suma de todos los números pares en la lista."
   ]
  },
  {
   "cell_type": "code",
   "execution_count": 21,
   "metadata": {},
   "outputs": [
    {
     "data": {
      "text/plain": [
       "16"
      ]
     },
     "execution_count": 21,
     "metadata": {},
     "output_type": "execute_result"
    }
   ],
   "source": [
    "lista = [1,4,6,3,9,2,4]\n",
    "def suma_pares(numeros):\n",
    "    suma=0\n",
    "    for num in numeros:\n",
    "        if(num%2==0):\n",
    "            suma+=num\n",
    "    return suma\n",
    "\n",
    "suma_pares(lista)\n"
   ]
  },
  {
   "attachments": {},
   "cell_type": "markdown",
   "metadata": {},
   "source": [
    "Crear una función llamada fibonacci que tome un número n como argumento y retorne el n-ésimo número de la secuencia de Fibonacci."
   ]
  },
  {
   "cell_type": "code",
   "execution_count": 31,
   "metadata": {},
   "outputs": [
    {
     "name": "stdout",
     "output_type": "stream",
     "text": [
      "El 3-ésimo número de Fibonacci es: 1\n"
     ]
    }
   ],
   "source": [
    "\n",
    "def fibonacci(n):\n",
    "    if n <= 0:\n",
    "        return \"El número debe ser mayor que cero.\"\n",
    "    elif n == 1:\n",
    "        return 0\n",
    "    elif n == 2:\n",
    "        return 1\n",
    "    else:\n",
    "        fib = [0, 1]\n",
    "        for i in range(2, n):\n",
    "            fib.append(fib[-1] + fib[-2])\n",
    "        return fib[-1]\n",
    "\n",
    "n = 3\n",
    "resultado = fibonacci(n)\n",
    "print(f\"El {n}-ésimo número de Fibonacci es:\", resultado)\n"
   ]
  },
  {
   "cell_type": "code",
   "execution_count": null,
   "metadata": {},
   "outputs": [],
   "source": []
  },
  {
   "attachments": {},
   "cell_type": "markdown",
   "metadata": {},
   "source": [
    "Escribir una función llamada palindromo que tome un string como argumento y retorne True si el string es un palíndromo (se lee igual de izquierda a derecha que de derecha a izquierda), y False en caso contrario. Ignorar espacios, signos de puntuación y distinguir entre mayúsculas y minúsculas."
   ]
  },
  {
   "cell_type": "code",
   "execution_count": 46,
   "metadata": {},
   "outputs": [
    {
     "name": "stdout",
     "output_type": "stream",
     "text": [
      "Es palíndromo\n"
     ]
    },
    {
     "data": {
      "text/plain": [
       "True"
      ]
     },
     "execution_count": 46,
     "metadata": {},
     "output_type": "execute_result"
    }
   ],
   "source": [
    "def palindromo(palabra):\n",
    "    palabra = ''.join(c for c in palabra if c.isalnum()).lower()\n",
    "    if(palabra[::-1]==palabra):\n",
    "        print(\"Es palíndromo\")\n",
    "        return True\n",
    "    else:\n",
    "        print(\"No es palíndromo\")\n",
    "        return False\n",
    "    \n",
    "palindromo(input(\"Introduce una palabra\"))"
   ]
  },
  {
   "attachments": {},
   "cell_type": "markdown",
   "metadata": {},
   "source": [
    "Crear una función llamada interseccion que tome dos listas como argumentos y retorne una nueva lista con los elementos que se encuentran en ambas listas, sin repetir elementos."
   ]
  },
  {
   "cell_type": "code",
   "execution_count": 49,
   "metadata": {},
   "outputs": [
    {
     "data": {
      "text/plain": [
       "[17, 14]"
      ]
     },
     "execution_count": 49,
     "metadata": {},
     "output_type": "execute_result"
    }
   ],
   "source": [
    "lista1 = [1,4,5,8,9,14,17]\n",
    "lista2 = [11,14,17,19]\n",
    "def interseccion(lista1,lista2):\n",
    "    set1 = set(lista1);\n",
    "    set2 = set(lista2)\n",
    "    interseccion_set = set1.intersection(set2)\n",
    "    return list(interseccion_set)\n",
    "\n",
    "interseccion(lista1,lista2)\n"
   ]
  }
 ],
 "metadata": {
  "kernelspec": {
   "display_name": "Python 3",
   "language": "python",
   "name": "python3"
  },
  "language_info": {
   "codemirror_mode": {
    "name": "ipython",
    "version": 3
   },
   "file_extension": ".py",
   "mimetype": "text/x-python",
   "name": "python",
   "nbconvert_exporter": "python",
   "pygments_lexer": "ipython3",
   "version": "3.12.2"
  },
  "orig_nbformat": 4
 },
 "nbformat": 4,
 "nbformat_minor": 2
}
