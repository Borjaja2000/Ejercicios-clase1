{
 "cells": [
  {
   "attachments": {},
   "cell_type": "markdown",
   "metadata": {},
   "source": [
    "<!DOCTYPE html>\n",
    "<html>\n",
    "<head>\n",
    "</head>\n",
    "<body>\n",
    "\n",
    "<div style=\"display: flex; justify-content: center; align-items: center; font-family: Arial, sans-serif; margin-top: 20px; margin-bottom: 20px;\">\n",
    "  <div style=\"text-align: right;\">\n",
    "    <div style=\"font-size: 24px; font-weight: bold; color: white; margin-left:20px;\">PREWORK BOOTCAMP DATA ANALYTICS</div>\n",
    "    <div style=\"font-size: 18px; font-weight: bold; margin-left: 20px;\">TERCER BLOQUE: FUNCIONES Y ÁLGEBRA</div>\n",
    "  </div>\n",
    "  <div style=\"text-align: right;\">\n",
    "    <img src=\"https://d1fdloi71mui9q.cloudfront.net/S8HhvUnnRgmjyhySHtWl_ZQMaRWd21TfV5AsU\" width=\"100\" height=\"100\">\n",
    "  </div>\n",
    "  <div style=\"text-align: left;\">\n",
    "    <div style=\"font-size: 24px; font-weight: bold; color: white; margin-left:20px;\">UPGRADE-HUB</div>\n",
    "    <div style=\"font-size: 18px; font-weight: bold; margin-left: 20px;\">coordinacion.data@bootcamp-upgrade.com</div>\n",
    "  </div>\n",
    "</div>\n",
    "\n",
    "</body>\n",
    "</html>"
   ]
  },
  {
   "cell_type": "markdown",
   "metadata": {},
   "source": [
    "## FUNCIONES EN PYTHON:"
   ]
  },
  {
   "attachments": {},
   "cell_type": "markdown",
   "metadata": {},
   "source": [
    "#### ¿Qué es una función?\n",
    "\n",
    "Una función es un bloque de código reutilizable que realiza una tarea específica. Las funciones permiten dividir el código en partes más pequeñas y modulares, lo que facilita su comprensión y mantenimiento. También ayudan a evitar la repetición de código y a hacer el programa más eficiente.\n",
    "\n",
    "Las funciones se ejecutan mediante una llamada, y su principal objetivo es facilitar la modularidad y legibilidad del código."
   ]
  },
  {
   "cell_type": "code",
   "execution_count": 1,
   "metadata": {},
   "outputs": [],
   "source": [
    "\"\"\"\n",
    "Para definir una función en Python, se utiliza la palabra clave def, seguida del nombre de la función, paréntesis y dos puntos. \n",
    "El bloque de código dentro de la función se escribe con una indentación de cuatro espacios. Aquí hay un ejemplo básico de cómo definir una función en Python: \n",
    "\"\"\"\n",
    "def saludo():\n",
    "    print(\"¡Hola, mundo!\")"
   ]
  },
  {
   "cell_type": "markdown",
   "metadata": {},
   "source": [
    "### Parámetros\n",
    "\n"
   ]
  },
  {
   "cell_type": "code",
   "execution_count": 3,
   "metadata": {},
   "outputs": [],
   "source": [
    "\"\"\"\n",
    "Los parámetros son variables que se incluyen en la definición de una función.\n",
    "Permiten que la función acepte valores de entrada que se utilizarán durante la ejecución de la función.\n",
    "Aquí hay un ejemplo de una función con parámetros: \n",
    "\"\"\"\n",
    "\n",
    "def suma(a, b):\n",
    "    resultado = a + b\n",
    "    print(resultado)\n",
    "\n",
    "#En este ejemplo, a y b son parámetros de la función suma."
   ]
  },
  {
   "cell_type": "markdown",
   "metadata": {},
   "source": [
    "### Argumentos"
   ]
  },
  {
   "cell_type": "code",
   "execution_count": 4,
   "metadata": {},
   "outputs": [
    {
     "name": "stdout",
     "output_type": "stream",
     "text": [
      "8\n"
     ]
    }
   ],
   "source": [
    "\"\"\" \n",
    "Los argumentos son los valores que se asignan a los parámetros cuando se llama a una función. \n",
    "Los argumentos se pasan a la función en el orden en que se definen los parámetros.\n",
    "Aquí hay un ejemplo de cómo llamar a la función suma con argumentos:\n",
    "\"\"\"\n",
    "suma(5, 3) #Se nombra la función y se meten los parámetros de entrada.\n",
    "\n",
    "#En este ejemplo, 5 se asigna al parámetro a y 3 se asigna al parámetro b."
   ]
  },
  {
   "attachments": {},
   "cell_type": "markdown",
   "metadata": {},
   "source": [
    "#### Tipos de argumentos"
   ]
  },
  {
   "attachments": {},
   "cell_type": "markdown",
   "metadata": {},
   "source": [
    "**Posicionales:** Son los argumentos que se pasan en el orden en que se definen los parámetros. En el ejemplo anterior, 5 y 3 son argumentos posicionales.\n",
    "\n"
   ]
  },
  {
   "cell_type": "code",
   "execution_count": 5,
   "metadata": {},
   "outputs": [
    {
     "name": "stdout",
     "output_type": "stream",
     "text": [
      "8\n"
     ]
    }
   ],
   "source": [
    "suma(5, 3) # Argumento posicional"
   ]
  },
  {
   "attachments": {},
   "cell_type": "markdown",
   "metadata": {},
   "source": [
    "**Nombrados:** Son los argumentos que se pasan a la función utilizando el nombre del parámetro y un signo igual. Esto permite pasar argumentos en un orden diferente al de la definición de los parámetros.\n",
    "\n"
   ]
  },
  {
   "cell_type": "code",
   "execution_count": 6,
   "metadata": {},
   "outputs": [
    {
     "name": "stdout",
     "output_type": "stream",
     "text": [
      "8\n"
     ]
    }
   ],
   "source": [
    "suma(b=3, a=5)"
   ]
  },
  {
   "attachments": {},
   "cell_type": "markdown",
   "metadata": {},
   "source": [
    "**Número variable de argumentos:** Se utilizan para permitir que una función acepte un número variable de argumentos. Se utilizan *args y **kwargs para lograr esto."
   ]
  },
  {
   "cell_type": "code",
   "execution_count": 7,
   "metadata": {},
   "outputs": [
    {
     "name": "stdout",
     "output_type": "stream",
     "text": [
      "15\n"
     ]
    }
   ],
   "source": [
    "\"\"\"\n",
    "*args: Permite pasar un número variable de argumentos posicionales a una función. Se almacenan como una tupla dentro de la función.\n",
    "\"\"\"\n",
    "def suma_variable(*args):\n",
    "    suma_total = sum(args)\n",
    "    print(suma_total)\n",
    "\n",
    "suma_variable(1, 2, 3, 4, 5)"
   ]
  },
  {
   "cell_type": "code",
   "execution_count": null,
   "metadata": {},
   "outputs": [],
   "source": [
    "\"\"\" \n",
    "**kwargs: Permite pasar un número variable de argumentos nombrados a una función. Se almacenan como un diccionario dentro de la función.\n",
    "\"\"\""
   ]
  },
  {
   "cell_type": "code",
   "execution_count": 8,
   "metadata": {},
   "outputs": [
    {
     "name": "stdout",
     "output_type": "stream",
     "text": [
      "nombre: Juan\n",
      "edad: 25\n",
      "ciudad: Madrid\n"
     ]
    }
   ],
   "source": [
    "def muestra_info(**kwargs):\n",
    "    for clave, valor in kwargs.items():\n",
    "        print(f\"{clave}: {valor}\")\n",
    "\n",
    "muestra_info(nombre=\"Juan\", edad=25, ciudad=\"Madrid\")"
   ]
  },
  {
   "attachments": {},
   "cell_type": "markdown",
   "metadata": {},
   "source": [
    "#### Retorno de Valores"
   ]
  },
  {
   "attachments": {},
   "cell_type": "markdown",
   "metadata": {},
   "source": [
    "El retorno de valores en una función se refiere a la capacidad de una función para enviar un valor de vuelta al código que la llamó. Para devolver un valor, se utiliza la palabra clave return."
   ]
  },
  {
   "cell_type": "code",
   "execution_count": 9,
   "metadata": {},
   "outputs": [
    {
     "name": "stdout",
     "output_type": "stream",
     "text": [
      "8\n"
     ]
    }
   ],
   "source": [
    "\"\"\"\n",
    "Ejemplo de función con retorno\n",
    "Aquí hay un ejemplo de una función que retorna la suma de dos números:\n",
    "\"\"\"\n",
    "\n",
    "def suma(a, b):\n",
    "    resultado = a + b\n",
    "    return resultado\n",
    "\n",
    "total = suma(5, 3)\n",
    "print(total) "
   ]
  },
  {
   "attachments": {},
   "cell_type": "markdown",
   "metadata": {},
   "source": [
    "#### Retorno de múltiples valores"
   ]
  },
  {
   "attachments": {},
   "cell_type": "markdown",
   "metadata": {},
   "source": [
    "Una función puede retornar múltiples valores en forma de una tupla, una lista o un diccionario."
   ]
  },
  {
   "cell_type": "code",
   "execution_count": 10,
   "metadata": {},
   "outputs": [
    {
     "name": "stdout",
     "output_type": "stream",
     "text": [
      "11\n",
      "3\n"
     ]
    }
   ],
   "source": [
    "\"\"\"\n",
    " Aquí hay un ejemplo de una función que retorna una tupla con múltiples valores:\n",
    "\"\"\"\n",
    "\n",
    "def operaciones(a, b):\n",
    "    suma = a + b\n",
    "    resta = a - b\n",
    "    return suma, resta\n",
    "\n",
    "resultado_suma, resultado_resta = operaciones(7, 4)\n",
    "print(resultado_suma)  \n",
    "print(resultado_resta) "
   ]
  },
  {
   "attachments": {},
   "cell_type": "markdown",
   "metadata": {},
   "source": [
    "### Retorno vacío o sin valor"
   ]
  },
  {
   "attachments": {},
   "cell_type": "markdown",
   "metadata": {},
   "source": [
    "Si una función no tiene una declaración return o no se especifica ningún valor después de return, la función devuelve None. Esto representa la ausencia de un valor en Python. Por ejemplo:"
   ]
  },
  {
   "cell_type": "code",
   "execution_count": 11,
   "metadata": {},
   "outputs": [
    {
     "name": "stdout",
     "output_type": "stream",
     "text": [
      "¡Hola, mundo!\n",
      "None\n"
     ]
    }
   ],
   "source": [
    "def saludo():\n",
    "    print(\"¡Hola, mundo!\")\n",
    "\n",
    "resultado = saludo()\n",
    "print(resultado)\n",
    "\n",
    "#En este ejemplo, la función saludo no tiene una declaración de retorno, por lo que devuelve None"
   ]
  },
  {
   "attachments": {},
   "cell_type": "markdown",
   "metadata": {},
   "source": [
    "#### Ejemplos prácticos de funciones:"
   ]
  },
  {
   "cell_type": "code",
   "execution_count": 13,
   "metadata": {},
   "outputs": [
    {
     "name": "stdout",
     "output_type": "stream",
     "text": [
      "¡Bienvenidos a la clase de Python!\n",
      "La suma es: 12\n",
      "¡Hola, Andrés! ¿Cómo estás?\n",
      "16\n",
      "12\n",
      "120\n",
      "True\n",
      "5\n"
     ]
    }
   ],
   "source": [
    "# Función simple que imprime un mensaje\n",
    "def mostrar_mensaje():\n",
    "    print(\"¡Bienvenidos a la clase de Python!\")\n",
    "\n",
    "\n",
    "# Función que suma dos números y muestra el resultado\n",
    "def suma(a, b):\n",
    "    resultado = a + b\n",
    "    print(\"La suma es:\", resultado)\n",
    "\n",
    "\n",
    "# Función que saluda a un usuario con un nombre dado\n",
    "def saludo(nombre):\n",
    "    print(f\"¡Hola, {nombre}! ¿Cómo estás?\")\n",
    "\n",
    "\n",
    "# Función que retorna el cuadrado de un número\n",
    "def cuadrado(num):\n",
    "    return num * num\n",
    "\n",
    "\n",
    "# Función que retorna el mayor de dos números\n",
    "def mayor(a, b):\n",
    "    if a > b:\n",
    "        return a\n",
    "    else:\n",
    "        return b\n",
    "\n",
    "\n",
    "# Función que calcula el factorial de un número\n",
    "def factorial(n):\n",
    "    if n == 0:\n",
    "        return 1\n",
    "    else:\n",
    "        return n * factorial(n - 1)\n",
    "\n",
    "\n",
    "# Función que verifica si un número es par\n",
    "def es_par(num):\n",
    "    return num % 2 == 0\n",
    "\n",
    "\n",
    "# Función que calcula la longitud de una lista\n",
    "def longitud(lista):\n",
    "    contador = 0\n",
    "    for elemento in lista:\n",
    "        contador += 1\n",
    "    return contador\n",
    "\n",
    "\n",
    "# Pruebas de funciones\n",
    "mostrar_mensaje()\n",
    "suma(5, 7)\n",
    "saludo(\"Andrés\")\n",
    "print(cuadrado(4))\n",
    "print(mayor(12, 7))\n",
    "print(factorial(5))\n",
    "print(es_par(6))\n",
    "print(longitud([1, 2, 3, 4, 5]))\n"
   ]
  },
  {
   "attachments": {},
   "cell_type": "markdown",
   "metadata": {},
   "source": [
    "## ÁLGEBRA CON PYTHON (extra):"
   ]
  },
  {
   "attachments": {},
   "cell_type": "markdown",
   "metadata": {},
   "source": [
    "El álgebra lineal es una rama de las matemáticas que estudia conceptos como vectores, matrices, sistemas de ecuaciones lineales y espacios vectoriales.</br> Se enfoca en el análisis y manipulación de estructuras lineales, lo que permite resolver una amplia gama de problemas en ciencias e ingeniería."
   ]
  },
  {
   "attachments": {},
   "cell_type": "markdown",
   "metadata": {},
   "source": [
    "Aplicaciones de álgebra lineal en diversas disciplinas:</br></br>\n",
    "Física: Mecánica clásica, cuántica y relatividad.</br>\n",
    "Ciencias de la computación: Algoritmos, análisis de datos, aprendizaje automático y procesamiento de imágenes.</br>\n",
    "Economía: Optimización de recursos, modelado de mercados y análisis de riesgos.</br>\n",
    "Ingeniería: Análisis estructural, diseño de sistemas de control y procesamiento de señales.</br>\n",
    "Biología: Análisis genómico, modelado de redes metabólicas y estudios de ecología.</br>"
   ]
  },
  {
   "attachments": {},
   "cell_type": "markdown",
   "metadata": {},
   "source": [
    "Conceptos básicos del álgebra lineal:</br></br>\n",
    "\n",
    "Vectores: Son entidades matemáticas con magnitud y dirección, representadas por una lista de componentes numéricas. Los vectores se utilizan en una amplia variedad de aplicaciones, como el análisis de fuerzas en física o la representación de datos en ciencias de la computación.\n",
    "\n",
    "Matrices: Son estructuras bidimensionales que contienen números, símbolos o expresiones. Las matrices se emplean para representar transformaciones lineales, como rotaciones y escalas, y para describir sistemas de ecuaciones lineales. En esencia, una matriz puede considerarse como una tabla de números que permite realizar operaciones entre vectores y otros sistemas lineales.\n",
    "\n",
    "Escalares: Son valores numéricos que se utilizan para modificar la magnitud de un vector sin cambiar su dirección. En el álgebra lineal, los escalares se emplean comúnmente en operaciones como la multiplicación de vectores, en la que un vector se escala (o estira) por un factor determinado.\n",
    "\n",
    "Sistemas de ecuaciones lineales: Son conjuntos de ecuaciones que involucran múltiples variables. El propósito de resolver un sistema de ecuaciones lineales es encontrar los valores de las variables que satisfagan todas las ecuaciones de manera simultánea. Estos sistemas son fundamentales en el álgebra lineal y tienen aplicaciones en numerosos campos, como la optimización, la modelización de fenómenos naturales y la toma de decisiones en economía."
   ]
  },
  {
   "attachments": {},
   "cell_type": "markdown",
   "metadata": {},
   "source": [
    "### Vectores: "
   ]
  },
  {
   "attachments": {},
   "cell_type": "markdown",
   "metadata": {},
   "source": [
    "Los vectores son entidades matemáticas que tienen magnitud y dirección. Pueden ser representados como una lista de números, \n",
    "donde cada número corresponde a una componente del vector en un espacio de coordenadas. Los vectores son fundamentales en el álgebra lineal y tienen una amplia gama de aplicaciones en diversas disciplinas, \n",
    "como la física, la ingeniería y las ciencias de la computación.\n"
   ]
  },
  {
   "cell_type": "code",
   "execution_count": 1,
   "metadata": {},
   "outputs": [],
   "source": [
    "#En Python, podemos representar vectores utilizando listas o tuplas\n",
    "\n",
    "vector_a_lista = [1, 2, 3] #coordenadas de nuestro vector usando una lista\n",
    "vector_b_tupla = (4, 5, 6) #coordenadas de nuestro vector usando una tupla\n",
    "\n",
    "vector_a = [7, 1, 3]\n",
    "vector_b = [4, 5, 6]\n",
    "vector_c = [10, 20, 30]\n",
    "vector_d = [20, 15, 40]"
   ]
  },
  {
   "cell_type": "code",
   "execution_count": 2,
   "metadata": {},
   "outputs": [
    {
     "data": {
      "image/png": "[encoded data removed]",
      "text/plain": [
       "<Figure size 640x480 with 1 Axes>"
      ]
     },
     "metadata": {},
     "output_type": "display_data"
    }
   ],
   "source": [
    "import matplotlib.pyplot as plt\n",
    "fig, ax = plt.subplots()\n",
    "ax.quiver(0, 0, vector_a[0], vector_a[1], angles='xy', scale_units='xy', scale=1, color='r', label='Vector a')\n",
    "ax.quiver(0, 0, vector_b[0], vector_b[1], angles='xy', scale_units='xy', scale=1, color='b', label='Vector b')\n",
    "ax.quiver(0, 0, vector_c[0], vector_c[1], angles='xy', scale_units='xy', scale=1, color='g', label='Vector c')\n",
    "ax.quiver(0, 0, vector_d[0], vector_d[1], angles='xy', scale_units='xy', scale=1, color='m', label='Vector d')\n",
    "ax.set_xlim([-1, 31])\n",
    "ax.set_ylim([-1, 31])\n",
    "ax.set_xlabel('Eje x')\n",
    "ax.set_ylabel('Eje y')\n",
    "ax.legend()\n",
    "plt.title('Vectores')\n",
    "plt.grid()\n",
    "plt.show()"
   ]
  },
  {
   "attachments": {},
   "cell_type": "markdown",
   "metadata": {},
   "source": [
    "Podemos realizar operaciones básicas de suma, resta, multiplicación y división de vectores utilizando funciones de Python. \n",
    "\n",
    "Mas adelante en clase usaremos librerias que acelere el cálculo de vectores y matrices, pero debemos entender los conceptos de Álgebra Lineal"
   ]
  },
  {
   "cell_type": "code",
   "execution_count": 3,
   "metadata": {},
   "outputs": [],
   "source": [
    "def suma_vectores(a, b):\n",
    "    return [a_i + b_i for a_i, b_i in zip(a, b)]\n",
    "\n",
    "def resta_vectores(a, b):\n",
    "    return [a_i - b_i for a_i, b_i in zip(a, b)]\n",
    "\n",
    "def multiplicacion_vectores(a, b):\n",
    "    return [a_i * b_i for a_i, b_i in zip(a, b)]\n",
    "\n",
    "def division_vectores(a, b):\n",
    "    return [a_i / b_i for a_i, b_i in zip(a, b)]"
   ]
  },
  {
   "cell_type": "code",
   "execution_count": 4,
   "metadata": {},
   "outputs": [
    {
     "name": "stdout",
     "output_type": "stream",
     "text": [
      "Suma de vectores: [11, 6, 9]\n",
      "Resta de vectores: [3, -4, -3]\n",
      "Multiplicación de vectores: [28, 5, 18]\n",
      "División de vectores: [1.75, 0.2, 0.5]\n",
      "Suma de vectores: [30, 35, 70]\n",
      "Resta de vectores: [-10, 5, -10]\n",
      "Multiplicación de vectores: [200, 300, 1200]\n",
      "División de vectores: [0.5, 1.3333333333333333, 0.75]\n"
     ]
    }
   ],
   "source": [
    "\n",
    "# Suma de vectores\n",
    "suma = suma_vectores(vector_a, vector_b)\n",
    "print(\"Suma de vectores:\", suma)\n",
    "\n",
    "# Resta de vectores\n",
    "resta = resta_vectores(vector_a, vector_b)\n",
    "print(\"Resta de vectores:\", resta)\n",
    "\n",
    "# Multiplicación de vectores\n",
    "multiplicacion = multiplicacion_vectores(vector_a, vector_b)\n",
    "print(\"Multiplicación de vectores:\", multiplicacion)\n",
    "\n",
    "# División de vectores\n",
    "division = division_vectores(vector_a, vector_b)\n",
    "print(\"División de vectores:\", division)\n",
    "\n",
    "# Suma de vectores\n",
    "suma_cd = suma_vectores(vector_c, vector_d)\n",
    "print(\"Suma de vectores:\", suma_cd)\n",
    "\n",
    "# Resta de vectores\n",
    "resta_cd = resta_vectores(vector_c, vector_d)\n",
    "print(\"Resta de vectores:\", resta_cd)\n",
    "\n",
    "# Multiplicación de vectores\n",
    "multiplicacion_cd = multiplicacion_vectores(vector_c, vector_d)\n",
    "print(\"Multiplicación de vectores:\", multiplicacion_cd)\n",
    "\n",
    "# División de vectores\n",
    "division_cd = division_vectores(vector_c, vector_d)\n",
    "print(\"División de vectores:\", division_cd)"
   ]
  },
  {
   "attachments": {},
   "cell_type": "markdown",
   "metadata": {},
   "source": [
    "## Matrices"
   ]
  },
  {
   "attachments": {},
   "cell_type": "markdown",
   "metadata": {},
   "source": [
    "Las matrices son estructuras matemáticas bidimensionales que consisten en números, símbolos o expresiones dispuestas en filas y columnas. \n",
    "En el álgebra lineal, las matrices se utilizan para representar transformaciones lineales y sistemas de ecuaciones lineales, así como para realizar operaciones con vectores y otras matrices.\n",
    "En términos matemáticos, una matriz es una colección ordenada de elementos, que pueden ser números, funciones, variables o incluso otras matrices, dispuestos en una cuadrícula rectangular.\n",
    "\n",
    "Una matriz A de tamaño m x n (leído como \"m por n\") consiste en m filas y n columnas, lo que resulta en un total de m × n elementos. Cada elemento de la matriz se denota por una letra mayúscula con dos subíndices, donde el primer subíndice indica la fila y el segundo subíndice indica la columna. Por ejemplo, A(i, j) representa el elemento en la fila i y la columna j de la matriz A.\n",
    "\n",
    "Las matrices son estructuras matemáticas que nos permiten organizar y manipular conjuntos de números o variables en una forma rectangular, es decir, en filas y columnas. En términos matemáticos, una matriz es una colección ordenada de elementos, que pueden ser números, funciones, variables o incluso otras matrices, dispuestos en una cuadrícula rectangular.\n",
    "\n",
    "Una matriz A de tamaño m x n (leído como \"m por n\") consiste en m filas y n columnas, lo que resulta en un total de m × n elementos. Cada elemento de la matriz se denota por una letra mayúscula con dos subíndices, donde el primer subíndice indica la fila y el segundo subíndice indica la columna. Por ejemplo, A(i, j) representa el elemento en la fila i y la columna j de la matriz A.\n",
    "\n",
    "Una matriz se representa de la siguiente manera:\n",
    "\n",
    "A = | a₁₁ a₁₂ ... a₁n |\n",
    "| a₂₁ a₂₂ ... a₂n |\n",
    "| ⋮ ⋮ ... ⋮ |\n",
    "| am₁ am₂ ... amn |\n",
    "\n",
    "Donde a(i, j) representa el elemento en la fila i y columna j."
   ]
  },
  {
   "cell_type": "code",
   "execution_count": null,
   "metadata": {},
   "outputs": [],
   "source": [
    "\"\"\"Una matriz puede ser representada como una lista anidada en Python,\n",
    " donde cada sublista representa una fila de la matriz. \n",
    " Por ejemplo, una matriz 3x3 (tres filas y tres columnas) puede ser representada como: \"\"\"\n",
    "\n",
    "matriz = [\n",
    "    [1, 2, 3],\n",
    "    [4, 5, 6],\n",
    "    [7, 8, 9]]"
   ]
  },
  {
   "attachments": {},
   "cell_type": "markdown",
   "metadata": {},
   "source": [
    "Existen varios tipos de matrices, cada uno con propiedades y aplicaciones específicas. Algunos de los tipos más comunes de matrices son:"
   ]
  },
  {
   "cell_type": "code",
   "execution_count": null,
   "metadata": {},
   "outputs": [],
   "source": [
    "#Matriz cuadrada: Es una matriz en la que el número de filas es igual al número de columnas. Por ejemplo:\n",
    "A = [    \n",
    "    [1, 2, 3],\n",
    "    [4, 5, 6],\n",
    "    [7, 8, 9]]\n"
   ]
  },
  {
   "cell_type": "code",
   "execution_count": null,
   "metadata": {},
   "outputs": [],
   "source": [
    "#Matriz rectangular: Es una matriz en la que el número de filas no es igual al número de columnas. Por ejemplo:\n",
    "B = [    \n",
    "    [1, 2],\n",
    "    [3, 4],\n",
    "    [5, 6]]\n"
   ]
  },
  {
   "cell_type": "code",
   "execution_count": null,
   "metadata": {},
   "outputs": [],
   "source": [
    "#Matriz identidad: Es una matriz cuadrada en la que todos los elementos de la diagonal principal son iguales a 1 y los demás elementos son 0. \n",
    "#La matriz identidad es el elemento neutro en la multiplicación de matrices. Por ejemplo:\n",
    "\n",
    "I = [    \n",
    "    [1, 0, 0],\n",
    "    [0, 1, 0],\n",
    "    [0, 0, 1]]"
   ]
  },
  {
   "cell_type": "code",
   "execution_count": null,
   "metadata": {},
   "outputs": [],
   "source": [
    "#Matriz diagonal: Es una matriz cuadrada en la que todos los elementos fuera de la diagonal principal son 0. Por ejemplo:\n",
    "D = [\n",
    "    [1, 0, 0],\n",
    "    [0, 2, 0],\n",
    "    [0, 0, 3]]"
   ]
  },
  {
   "cell_type": "code",
   "execution_count": null,
   "metadata": {},
   "outputs": [],
   "source": [
    "#Matriz triangular superior: Es una matriz cuadrada en la que todos los elementos debajo de la diagonal principal son 0. Por ejemplo:\n",
    "U = [\n",
    "    [1, 2, 3],\n",
    "    [0, 4, 5],\n",
    "    [0, 0, 6]]\n"
   ]
  },
  {
   "cell_type": "code",
   "execution_count": null,
   "metadata": {},
   "outputs": [],
   "source": [
    "#Matriz triangular inferior: Es una matriz cuadrada en la que todos los elementos por encima de la diagonal principal son 0. Por ejemplo:\n",
    "L = [\n",
    "    [1, 0, 0],\n",
    "    [2, 3, 0],\n",
    "    [4, 5, 6]]"
   ]
  },
  {
   "cell_type": "code",
   "execution_count": null,
   "metadata": {},
   "outputs": [],
   "source": [
    "#Matriz simétrica: Es una matriz cuadrada en la que los elementos son simétricos respecto a la diagonal principal, es decir, a_ij = a_ji para todo i y j. Por ejemplo:\n",
    "S = [\n",
    "    [1, 2, 3],\n",
    "    [2, 4, 5],\n",
    "    [3, 5, 6]]"
   ]
  },
  {
   "attachments": {},
   "cell_type": "markdown",
   "metadata": {},
   "source": [
    "### Operaciones básicas con matrices:"
   ]
  },
  {
   "attachments": {},
   "cell_type": "markdown",
   "metadata": {},
   "source": [
    "La suma de dos matrices es una operación en la que se suman los elementos correspondientes de cada matriz para obtener una nueva matriz. Para hacer la suma de dos matrices en Python, primero debemos verificar que ambas matrices tengan las mismas dimensiones, es decir, el mismo número de filas y columnas. Si las matrices tienen diferentes dimensiones, no se puede realizar la suma y se debe lanzar una excepción."
   ]
  },
  {
   "attachments": {},
   "cell_type": "markdown",
   "metadata": {},
   "source": [
    "Suma de matrices: Para sumar dos matrices A y B del mismo tamaño (m x n), se suman los elementos correspondientes en cada posición (i, j).\n",
    "\n",
    "(A + B)(i, j) = A(i, j) + B(i, j)"
   ]
  },
  {
   "cell_type": "code",
   "execution_count": null,
   "metadata": {},
   "outputs": [],
   "source": [
    "def suma_matrices(A, B):\n",
    "    return [[A[i][j] + B[i][j] for j in range(len(A[0]))] for i in range(len(A))]\n",
    "\n",
    "A = [[1, 2], [3, 4]]\n",
    "B = [[5, 6], [7, 8]]\n",
    "\n",
    "resultado_suma = suma_matrices(A, B)\n",
    "print(\"Suma de matrices:\", resultado_suma)"
   ]
  },
  {
   "attachments": {},
   "cell_type": "markdown",
   "metadata": {},
   "source": [
    "Resta de matrices: Para restar dos matrices A y B del mismo tamaño (m x n), se restan los elementos correspondientes en cada posición (i, j).\n",
    "\n",
    "(A - B)(i, j) = A(i, j) - B(i, j)"
   ]
  },
  {
   "cell_type": "code",
   "execution_count": null,
   "metadata": {},
   "outputs": [],
   "source": [
    "def resta_matrices(A, B):\n",
    "    return [[A[i][j] - B[i][j] for j in range(len(A[0]))] for i in range(len(A))]\n",
    "\n",
    "A = [[1, 2], [3, 4]]\n",
    "B = [[5, 6], [7, 8]]\n",
    "\n",
    "resultado_resta = resta_matrices(A, B)\n",
    "print(\"Resta de matrices:\", resultado_resta)"
   ]
  },
  {
   "attachments": {},
   "cell_type": "markdown",
   "metadata": {},
   "source": [
    "Multiplicación de matrices: Para multiplicar dos matrices A (de tamaño m x n) y B (de tamaño n x p), el número de columnas de A debe ser igual al número de filas de B. El resultado será una matriz C de tamaño m x p. La entrada C(i, j) se obtiene mediante la suma de los productos de los elementos correspondientes de la fila i de A y la columna j de B.\n",
    "\n",
    "C(i, j) = A(i, 1) * B(1, j) + A(i, 2) * B(2, j) + ... + A(i, n) * B(n, j)"
   ]
  },
  {
   "cell_type": "code",
   "execution_count": null,
   "metadata": {},
   "outputs": [],
   "source": [
    "def multiplicacion_matrices(A, B):\n",
    "    resultado = [[0] * len(B[0]) for _ in range(len(A))]\n",
    "    for i in range(len(A)):\n",
    "        for j in range(len(B[0])):\n",
    "            for k in range(len(B)):\n",
    "                resultado[i][j] += A[i][k] * B[k][j]\n",
    "    return resultado\n",
    "\n",
    "A = [[1, 2], [3, 4]]\n",
    "B = [[5, 6], [7, 8]]\n",
    "\n",
    "resultado_multiplicacion = multiplicacion_matrices(A, B)\n",
    "print(\"Multiplicación de matrices:\", resultado_multiplicacion)"
   ]
  },
  {
   "attachments": {},
   "cell_type": "markdown",
   "metadata": {},
   "source": [
    "Multiplicación por escalar: Dado un escalar k (un número real o complejo) y una matriz A, se multiplica cada elemento de la matriz por el escalar k.\n",
    "\n",
    "(kA)(i, j) = k * A(i, j)"
   ]
  },
  {
   "cell_type": "code",
   "execution_count": null,
   "metadata": {},
   "outputs": [],
   "source": [
    "def multiplicacion_escalar(A, k):\n",
    "    C = [[k * A[i][j] for j in range(len(A[0]))] for i in range(len(A))]\n",
    "    return C\n",
    "\n",
    "A = [\n",
    "    [1, 2, 3],\n",
    "    [4, 5, 6],\n",
    "    [7, 8, 9]\n",
    "]\n",
    "\n",
    "k = 2\n",
    "\n",
    "C = multiplicacion_escalar(A, k)\n",
    "print(C)"
   ]
  },
  {
   "attachments": {},
   "cell_type": "markdown",
   "metadata": {},
   "source": [
    "Transposición: La matriz transpuesta de A, denotada como A^T, se obtiene intercambiando filas por columnas (o viceversa). Si A es de tamaño m x n, entonces A^T será de tamaño n x m.\n",
    "\n",
    "(A^T)(i, j) = A(j, i)"
   ]
  },
  {
   "cell_type": "code",
   "execution_count": null,
   "metadata": {},
   "outputs": [],
   "source": [
    "def transposicion(A):\n",
    "    C = [[A[j][i] for j in range(len(A))] for i in range(len(A[0]))]\n",
    "    return C\n",
    "\n",
    "A = [\n",
    "    [1, 2, 3],\n",
    "    [4, 5, 6],\n",
    "    [7, 8, 9]\n",
    "]\n",
    "\n",
    "C = transposicion(A)\n",
    "print(C)"
   ]
  },
  {
   "attachments": {},
   "cell_type": "markdown",
   "metadata": {},
   "source": [
    "Las matrices juegan un papel crucial en el campo del análisis de datos debido a su capacidad para representar, manipular y analizar grandes conjuntos de datos de manera eficiente y estructurada."
   ]
  },
  {
   "attachments": {},
   "cell_type": "markdown",
   "metadata": {},
   "source": [
    "### Sistemas de ecuaciones lineales"
   ]
  },
  {
   "attachments": {},
   "cell_type": "markdown",
   "metadata": {},
   "source": [
    "Los sistemas de ecuaciones lineales son conjuntos de ecuaciones que involucran variables lineales, donde cada ecuación se relaciona con una línea (en el caso bidimensional) o un plano (en el caso tridimensional). El objetivo es encontrar los valores de las variables que satisfagan todas las ecuaciones simultáneamente. La resolución de estos sistemas es una habilidad importante en matemáticas y ciencias aplicadas.\n",
    "\n",
    "Un sistema de ecuaciones lineales generalmente se representa de la siguiente manera:\n",
    "\n",
    "a₁₁x₁ + a₁₂x₂ + ... + a₁nxn = b₁\n",
    "a₂₁x₁ + a₂₂x₂ + ... + a₂nxn = b₂\n",
    "...\n",
    "am₁x₁ + am₂x₂ + ... + amnxn = bm\n",
    "\n",
    "donde aij son coeficientes constantes, xi son las variables, y bi son términos constantes.\n",
    "\n",
    "Hay varios métodos para resolver sistemas de ecuaciones lineales, algunos de los más comunes son:\n",
    "\n",
    "Método gráfico: Solo es práctico para sistemas de dos o tres variables. Consiste en graficar las ecuaciones en un plano (2 variables) o en un espacio tridimensional (3 variables) y buscar el punto de intersección de las líneas o planos.\n",
    "\n",
    "Sustitución: Se resuelve una de las ecuaciones para una variable y se sustituye en las otras ecuaciones. Se repite este proceso hasta que todas las variables se hayan resuelto. Este método es más adecuado para sistemas pequeños y simples.\n",
    "\n",
    "Eliminación de Gauss: Consiste en realizar operaciones elementales en las filas de la matriz extendida del sistema (la matriz que incluye los coeficientes y términos constantes) para reducirla a una matriz triangular superior. Luego, se resuelve el sistema utilizando la sustitución hacia atrás.\n",
    "\n",
    "Eliminación de Gauss-Jordan: Similar al método de Gauss, pero se reduce la matriz extendida a una matriz diagonal (todos los elementos fuera de la diagonal principal son cero). Esto permite resolver el sistema directamente, ya que cada ecuación solo tendrá una variable con coeficiente diferente de cero.\n",
    "\n",
    "Método de Cramer: Utiliza determinantes para resolver el sistema de ecuaciones lineales. Solo es aplicable si el determinante de la matriz de coeficientes es diferente de cero."
   ]
  },
  {
   "attachments": {},
   "cell_type": "markdown",
   "metadata": {},
   "source": [
    "### Ejemplo aplicado: "
   ]
  },
  {
   "attachments": {},
   "cell_type": "markdown",
   "metadata": {},
   "source": [
    " Supongamos que tienes una tienda que vende camisetas y pantalones. Por cada camiseta, ganas $10, y por cada par de pantalones, ganas $15. Un día, vendes un total de 20 artículos y ganas $245. ¿Cuántas camisetas y pantalones vendiste?"
   ]
  },
  {
   "attachments": {},
   "cell_type": "markdown",
   "metadata": {},
   "source": [
    "Podemos plantear un sistema de ecuaciones lineales para resolver este problema. Sea x el número de camisetas vendidas e y el número de pantalones vendidos. Entonces, tenemos las siguientes ecuaciones:\n",
    "\n",
    "x + y = 20 (número total de artículos)\n",
    "\n",
    "10x + 15y = 245 (ganancias totales)"
   ]
  },
  {
   "attachments": {},
   "cell_type": "markdown",
   "metadata": {},
   "source": [
    "Ahora resolveremos este sistema de ecuaciones lineales utilizando el método de eliminación de Gauss:"
   ]
  },
  {
   "cell_type": "code",
   "execution_count": null,
   "metadata": {},
   "outputs": [],
   "source": [
    "#Creamos la matriz extendida: \n",
    "matriz = [\n",
    "    [1, 1, 20],\n",
    "    [10, 15, 245]\n",
    "]"
   ]
  },
  {
   "cell_type": "code",
   "execution_count": null,
   "metadata": {},
   "outputs": [],
   "source": [
    "# Multiplicar la primera fila por 10 y restarla de la segunda fila\n",
    "coeficiente = 10\n",
    "for j in range(len(matriz[0])):\n",
    "    matriz[1][j] -= coeficiente * matriz[0][j]"
   ]
  },
  {
   "cell_type": "code",
   "execution_count": null,
   "metadata": {},
   "outputs": [],
   "source": [
    "# Resolver la segunda ecuación para y\n",
    "y = matriz[1][2] / matriz[1][1]\n",
    "\n",
    "# Sustituir y en la primera ecuación y resolver para x\n",
    "x = matriz[0][2] - matriz[0][1] * y\n"
   ]
  },
  {
   "cell_type": "code",
   "execution_count": 6,
   "metadata": {},
   "outputs": [
    {
     "data": {
      "text/plain": [
       "3.0"
      ]
     },
     "execution_count": 6,
     "metadata": {},
     "output_type": "execute_result"
    }
   ],
   "source": [
    "# print(\"Camisetas vendidas: \", int(x))\n",
    "# print(\"Pantalones vendidos: \", int(y))\n",
    "\n",
    "\n",
    "# Sabiendo que la raiz n-esima de un numero cualquiera la puedo expresar como ese numero elevado a 1/n;\n",
    "# quiero que hagais una funcion que galcule la raiz n-esima de un numero cualquiera y que la useis.\n",
    "# Como extra, haced que por defecto sea la raiz cuadrada si no dicen lo contrario.\n",
    "\n",
    "def raiz_enesima(x,n=2):\n",
    "    \n",
    "    return x**(1/n)\n",
    "\n",
    "\n",
    "raiz_enesima(27, 3)"
   ]
  }
 ],
 "metadata": {
  "kernelspec": {
   "display_name": "Python 3",
   "language": "python",
   "name": "python3"
  },
  "language_info": {
   "codemirror_mode": {
    "name": "ipython",
    "version": 3
   },
   "file_extension": ".py",
   "mimetype": "text/x-python",
   "name": "python",
   "nbconvert_exporter": "python",
   "pygments_lexer": "ipython3",
   "version": "3.11.9"
  },
  "orig_nbformat": 4
 },
 "nbformat": 4,
 "nbformat_minor": 2
}
