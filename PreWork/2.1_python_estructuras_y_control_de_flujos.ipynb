{
 "cells": [
  {
   "attachments": {},
   "cell_type": "markdown",
   "metadata": {},
   "source": [
    "<!DOCTYPE html>\n",
    "<html>\n",
    "<head>\n",
    "</head>\n",
    "<body>\n",
    "\n",
    "<div style=\"display: flex; justify-content: center; align-items: center; font-family: Arial, sans-serif; margin-top: 20px; margin-bottom: 20px;\">\n",
    "  <div style=\"text-align: right;\">\n",
    "    <div style=\"font-size: 24px; font-weight: bold; color: white; margin-left:20px;\">PREWORK BOOTCAMP DATA ANALYTICS</div>\n",
    "    <div style=\"font-size: 18px; font-weight: bold; margin-left: 20px;\">SEGUNDO BLOQUE: ESTRUCTURAS</div>\n",
    "  </div>\n",
    "  <div style=\"text-align: right;\">\n",
    "    <img src=\"https://d1fdloi71mui9q.cloudfront.net/S8HhvUnnRgmjyhySHtWl_ZQMaRWd21TfV5AsU\" width=\"100\" height=\"100\">\n",
    "  </div>\n",
    "  <div style=\"text-align: left;\">\n",
    "    <div style=\"font-size: 24px; font-weight: bold; color: white; margin-left:20px;\">UPGRADE-HUB</div>\n",
    "    <div style=\"font-size: 18px; font-weight: bold; margin-left: 20px;\">coordinacion.data@bootcamp-upgrade.com</div>\n",
    "  </div>\n",
    "</div>\n",
    "\n",
    "</body>\n",
    "</html>"
   ]
  },
  {
   "attachments": {},
   "cell_type": "markdown",
   "metadata": {},
   "source": [
    "<center><img src=\"https://www.python.org/static/img/python-logo@2x.png\" width=\"150\"></center> </br>\n",
    "\n"
   ]
  },
  {
   "attachments": {},
   "cell_type": "markdown",
   "metadata": {},
   "source": [
    "### ESTRUCTURAS Y CONTROL DE FLUJO : CONDICIONALES Y BUCLES."
   ]
  },
  {
   "attachments": {},
   "cell_type": "markdown",
   "metadata": {},
   "source": [
    "Las estructuras de control de flujo en Python permiten controlar el flujo de ejecución de un programa.</br>\n",
    "Estas estructuras son fundamentales en la programación y se utilizan para tomar decisiones, repetir bloques de código y controlar el flujo general del programa. "
   ]
  },
  {
   "attachments": {},
   "cell_type": "markdown",
   "metadata": {},
   "source": [
    "#### IF / ELSE:"
   ]
  },
  {
   "cell_type": "code",
   "execution_count": null,
   "metadata": {},
   "outputs": [],
   "source": [
    "\"\"\"\n",
    "if/else\n",
    "La estructura de control if/else se utiliza para ejecutar un bloque de código si se cumple una condición y otro bloque de código si no se cumple. \n",
    "La sintaxis básica de una declaración if/else es la siguiente:\n",
    "\"\"\"\n",
    "\n",
    "if condicion:\n",
    "    # Bloque de código si la condición es verdadera (True)\n",
    "else:\n",
    "    # Bloque de código si la condición es falsa (False)\n",
    "\n",
    "\n",
    "\"\"\"\n",
    "También se puede utilizar elif (else if) para comprobar múltiples condiciones:\n",
    "\"\"\"\n",
    "\n",
    "if condicion1:\n",
    "    # Bloque de código si la condición1 es verdadera\n",
    "elif condicion2:\n",
    "    # Bloque de código si la condición1 es falsa pero la condición2 es verdadera\n",
    "else:\n",
    "    # Bloque de código si ninguna de las condiciones anteriores es verdadera"
   ]
  },
  {
   "cell_type": "code",
   "execution_count": 2,
   "metadata": {},
   "outputs": [
    {
     "name": "stdout",
     "output_type": "stream",
     "text": [
      "El número es impar\n",
      "El alumno aprobó el examen\n",
      "La palabra es un palíndromo\n"
     ]
    }
   ],
   "source": [
    "\"\"\"\n",
    "Ejemplo 1: Comprobar si un número es par o impar\n",
    "\"\"\"\n",
    "numero = 7\n",
    "\n",
    "if numero % 2 == 0:\n",
    "    print(\"El número es par\")\n",
    "else:\n",
    "    print(\"El número es impar\")\n",
    "\n",
    "\"\"\"\n",
    "Ejemplo 2: Determinar si un alumno aprobó o reprobó un examen\n",
    "\"\"\"\n",
    "calificacion = 75\n",
    "\n",
    "if calificacion >= 60:\n",
    "    print(\"El alumno aprobó el examen\")\n",
    "else:\n",
    "    print(\"El alumno reprobó el examen\")\n",
    "\n",
    "\"\"\"\n",
    "Ejemplo 3: Comprobar si una palabra es un palíndromo\n",
    "\"\"\"\n",
    "palabra = \"radar\"\n",
    "\n",
    "if palabra == palabra[::-1]:\n",
    "    print(\"La palabra es un palíndromo\")\n",
    "else:\n",
    "    print(\"La palabra no es un palíndromo\")"
   ]
  },
  {
   "attachments": {},
   "cell_type": "markdown",
   "metadata": {},
   "source": [
    "### FOR"
   ]
  },
  {
   "cell_type": "code",
   "execution_count": null,
   "metadata": {},
   "outputs": [],
   "source": [
    "\n",
    "\"\"\"\n",
    "for\n",
    "La estructura de control for se utiliza para iterar sobre una secuencia (como una lista, tupla, cadena u objeto iterable) y ejecutar un bloque de código para cada elemento de la secuencia.\n",
    "La sintaxis básica de un bucle for es:\n",
    "\"\"\"\n",
    "\n",
    "for variable in secuencia:\n",
    "    # Bloque de código a ejecutar para cada elemento de la secuencia\n",
    "\n",
    "\"\"\"\n",
    "Un ejemplo común de uso de un bucle for es iterar sobre una lista de números:\n",
    "\"\"\"\n",
    "\n",
    "numeros = [1, 2, 3, 4, 5]\n",
    "for num in numeros:\n",
    "    print(num)"
   ]
  },
  {
   "cell_type": "code",
   "execution_count": 3,
   "metadata": {},
   "outputs": [
    {
     "name": "stdout",
     "output_type": "stream",
     "text": [
      "1\n",
      "2\n",
      "3\n",
      "4\n",
      "5\n",
      "H\n",
      "o\n",
      "l\n",
      "a\n",
      " \n",
      "m\n",
      "u\n",
      "n\n",
      "d\n",
      "o\n",
      "nombre : Juan\n",
      "edad : 25\n",
      "ciudad : Madrid\n"
     ]
    }
   ],
   "source": [
    "\"\"\"\n",
    "Ejemplo 1: Imprimir los elementos de una lista\n",
    "\"\"\"\n",
    "numeros = [1, 2, 3, 4, 5]\n",
    "\n",
    "for num in numeros:\n",
    "    print(num)\n",
    "\n",
    "\"\"\"\n",
    "Ejemplo 2: Iterar sobre los caracteres de una cadena\n",
    "\"\"\"\n",
    "texto = \"Hola mundo\"\n",
    "\n",
    "for letra in texto:\n",
    "    print(letra)\n",
    "\n",
    "\"\"\"\n",
    "Ejemplo 3: Iterar sobre los elementos de un diccionario\n",
    "\"\"\"\n",
    "persona = {\n",
    "    \"nombre\": \"Juan\",\n",
    "    \"edad\": 25,\n",
    "    \"ciudad\": \"Madrid\"\n",
    "}\n",
    "\n",
    "for clave, valor in persona.items():\n",
    "    print(clave, \":\", valor)"
   ]
  },
  {
   "attachments": {},
   "cell_type": "markdown",
   "metadata": {},
   "source": [
    "### WHILE:"
   ]
  },
  {
   "cell_type": "code",
   "execution_count": null,
   "metadata": {},
   "outputs": [],
   "source": [
    "\n",
    "\"\"\"\n",
    "while\n",
    "La estructura de control while se utiliza para repetir un bloque de código mientras se cumpla una condición. \n",
    "La sintaxis básica de un bucle while es:\n",
    "\"\"\"\n",
    "\n",
    "while condicion:\n",
    "    # Bloque de código a ejecutar mientras la condición sea verdadera (True)\n"
   ]
  },
  {
   "cell_type": "code",
   "execution_count": 4,
   "metadata": {},
   "outputs": [
    {
     "name": "stdout",
     "output_type": "stream",
     "text": [
      "0\n",
      "1\n",
      "2\n",
      "3\n",
      "4\n"
     ]
    }
   ],
   "source": [
    "\"\"\"\n",
    "Un ejemplo de uso de un bucle while es repetir un bloque de código hasta que un contador alcance un cierto valor:\n",
    "\"\"\"\n",
    "\n",
    "contador = 0\n",
    "while contador < 5:\n",
    "    print(contador)\n",
    "    contador += 1  # Incrementar el contador en 1"
   ]
  },
  {
   "attachments": {},
   "cell_type": "markdown",
   "metadata": {},
   "source": [
    "### ESTRUCTURAS Y CONTROL DE FLUJO : CONTROL DE EXCEPCIONES."
   ]
  },
  {
   "attachments": {},
   "cell_type": "markdown",
   "metadata": {},
   "source": [
    "El control de excepciones es una técnica que se utiliza para manejar errores en tiempo de ejecución. </br> En Python, una excepción es un objeto que se crea cuando ocurre un error durante la ejecución de un programa.\n",
    "\n",
    "El control de excepciones se realiza mediante la utilización de bloques try/except."
   ]
  },
  {
   "cell_type": "code",
   "execution_count": null,
   "metadata": {},
   "outputs": [],
   "source": [
    "#La sintaxis básica de un bloque try/except es la siguiente:\n",
    "\n",
    "try:\n",
    "    # Bloque de código que puede generar una excepción\n",
    "except ExceptionType:\n",
    "    # Bloque de código que se ejecuta si se produce la excepción"
   ]
  },
  {
   "attachments": {},
   "cell_type": "markdown",
   "metadata": {},
   "source": [
    "En el bloque try se coloca el código que puede generar una excepción. </br> Si se produce la excepción, se ejecuta el bloque except correspondiente.  </br>\n",
    "Por ejemplo, si se intenta abrir un archivo que no existe, se produce una excepción de tipo FileNotFoundError."
   ]
  },
  {
   "cell_type": "code",
   "execution_count": 6,
   "metadata": {},
   "outputs": [
    {
     "name": "stdout",
     "output_type": "stream",
     "text": [
      "El archivo no existe\n"
     ]
    }
   ],
   "source": [
    "#Podemos utilizar un bloque try/except para manejar esta excepción:\n",
    "try:\n",
    "    archivo = open(\"archivo_no_existente.txt\", \"r\")\n",
    "except FileNotFoundError:\n",
    "    print(\"El archivo no existe\")"
   ]
  },
  {
   "attachments": {},
   "cell_type": "markdown",
   "metadata": {},
   "source": [
    "Existen muchos tipos diferentes de excepciones, cada una de las cuales se utiliza para manejar un tipo específico de error. Algunos de los tipos de excepciones más comunes en Python son:</br>\n",
    "</br>\n",
    "FileNotFoundError: se produce cuando se intenta abrir un archivo que no existe.</br>\n",
    "TypeError: se produce cuando se intenta realizar una operación con objetos de tipos incompatibles.</br>\n",
    "ValueError: se produce cuando se intenta realizar una operación con un valor que no es válido.</br>\n",
    "NameError: se produce cuando se intenta utilizar una variable que no ha sido definida.</br>\n",
    "IndexError: se produce cuando se intenta acceder a un índice fuera del rango de una lista o tupla.</br>\n",
    "KeyError: se produce cuando se intenta acceder a una clave que no existe en un diccionario.</br>\n",
    "ZeroDivisionError: se produce cuando se intenta dividir un número por cero.</br>\n",
    "Cada tipo de excepción se identifica por un nombre único en Python y se puede utilizar en un bloque except para manejar errores específicos."
   ]
  },
  {
   "cell_type": "code",
   "execution_count": 7,
   "metadata": {},
   "outputs": [
    {
     "ename": "TypeError",
     "evalue": "unsupported operand type(s) for +: 'int' and 'str'",
     "output_type": "error",
     "traceback": [
      "\u001b[1;31m---------------------------------------------------------------------------\u001b[0m",
      "\u001b[1;31mTypeError\u001b[0m                                 Traceback (most recent call last)",
      "Cell \u001b[1;32mIn[7], line 3\u001b[0m\n\u001b[0;32m      1\u001b[0m x \u001b[39m=\u001b[39m \u001b[39m5\u001b[39m\n\u001b[0;32m      2\u001b[0m y \u001b[39m=\u001b[39m \u001b[39m\"\u001b[39m\u001b[39mhola\u001b[39m\u001b[39m\"\u001b[39m\n\u001b[1;32m----> 3\u001b[0m z \u001b[39m=\u001b[39m x \u001b[39m+\u001b[39;49m y \u001b[39m# TypeError: unsupported operand type(s) for +: 'int' and 'str'\u001b[39;00m\n",
      "\u001b[1;31mTypeError\u001b[0m: unsupported operand type(s) for +: 'int' and 'str'"
     ]
    }
   ],
   "source": [
    "x = 5\n",
    "y = \"hola\"\n",
    "z = x + y # TypeError: unsupported operand type(s) for +: 'int' and 'str'"
   ]
  },
  {
   "cell_type": "code",
   "execution_count": 8,
   "metadata": {},
   "outputs": [
    {
     "ename": "ValueError",
     "evalue": "invalid literal for int() with base 10: 'hola'",
     "output_type": "error",
     "traceback": [
      "\u001b[1;31m---------------------------------------------------------------------------\u001b[0m",
      "\u001b[1;31mValueError\u001b[0m                                Traceback (most recent call last)",
      "Cell \u001b[1;32mIn[8], line 1\u001b[0m\n\u001b[1;32m----> 1\u001b[0m x \u001b[39m=\u001b[39m \u001b[39mint\u001b[39;49m(\u001b[39m\"\u001b[39;49m\u001b[39mhola\u001b[39;49m\u001b[39m\"\u001b[39;49m) \u001b[39m# ValueError: invalid literal for int() with base 10: 'hola'\u001b[39;00m\n",
      "\u001b[1;31mValueError\u001b[0m: invalid literal for int() with base 10: 'hola'"
     ]
    }
   ],
   "source": [
    "x = int(\"hola\") # ValueError: invalid literal for int() with base 10: 'hola'"
   ]
  },
  {
   "cell_type": "code",
   "execution_count": 11,
   "metadata": {},
   "outputs": [
    {
     "ename": "NameError",
     "evalue": "name 'h' is not defined",
     "output_type": "error",
     "traceback": [
      "\u001b[1;31m---------------------------------------------------------------------------\u001b[0m",
      "\u001b[1;31mNameError\u001b[0m                                 Traceback (most recent call last)",
      "Cell \u001b[1;32mIn[11], line 1\u001b[0m\n\u001b[1;32m----> 1\u001b[0m \u001b[39mprint\u001b[39m(h) \u001b[39m# NameError: name '2x' is not defined\u001b[39;00m\n",
      "\u001b[1;31mNameError\u001b[0m: name 'h' is not defined"
     ]
    }
   ],
   "source": [
    "print(h) # NameError: name 'h' is not defined"
   ]
  },
  {
   "cell_type": "code",
   "execution_count": 12,
   "metadata": {},
   "outputs": [
    {
     "ename": "IndexError",
     "evalue": "list index out of range",
     "output_type": "error",
     "traceback": [
      "\u001b[1;31m---------------------------------------------------------------------------\u001b[0m",
      "\u001b[1;31mIndexError\u001b[0m                                Traceback (most recent call last)",
      "Cell \u001b[1;32mIn[12], line 2\u001b[0m\n\u001b[0;32m      1\u001b[0m lista \u001b[39m=\u001b[39m [\u001b[39m1\u001b[39m, \u001b[39m2\u001b[39m, \u001b[39m3\u001b[39m]\n\u001b[1;32m----> 2\u001b[0m \u001b[39mprint\u001b[39m(lista[\u001b[39m4\u001b[39;49m]) \u001b[39m# IndexError: list index out of range\u001b[39;00m\n",
      "\u001b[1;31mIndexError\u001b[0m: list index out of range"
     ]
    }
   ],
   "source": [
    "lista = [1, 2, 3]\n",
    "print(lista[4]) # IndexError: list index out of range"
   ]
  },
  {
   "cell_type": "code",
   "execution_count": 13,
   "metadata": {},
   "outputs": [
    {
     "ename": "KeyError",
     "evalue": "'clave3'",
     "output_type": "error",
     "traceback": [
      "\u001b[1;31m---------------------------------------------------------------------------\u001b[0m",
      "\u001b[1;31mKeyError\u001b[0m                                  Traceback (most recent call last)",
      "Cell \u001b[1;32mIn[13], line 2\u001b[0m\n\u001b[0;32m      1\u001b[0m diccionario \u001b[39m=\u001b[39m {\u001b[39m\"\u001b[39m\u001b[39mclave1\u001b[39m\u001b[39m\"\u001b[39m: \u001b[39m\"\u001b[39m\u001b[39mvalor1\u001b[39m\u001b[39m\"\u001b[39m, \u001b[39m\"\u001b[39m\u001b[39mclave2\u001b[39m\u001b[39m\"\u001b[39m: \u001b[39m\"\u001b[39m\u001b[39mvalor2\u001b[39m\u001b[39m\"\u001b[39m}\n\u001b[1;32m----> 2\u001b[0m \u001b[39mprint\u001b[39m(diccionario[\u001b[39m\"\u001b[39;49m\u001b[39mclave3\u001b[39;49m\u001b[39m\"\u001b[39;49m]) \u001b[39m# KeyError: 'clave3'\u001b[39;00m\n",
      "\u001b[1;31mKeyError\u001b[0m: 'clave3'"
     ]
    }
   ],
   "source": [
    "diccionario = {\"clave1\": \"valor1\", \"clave2\": \"valor2\"}\n",
    "print(diccionario[\"clave3\"]) # KeyError: 'clave3'"
   ]
  },
  {
   "cell_type": "code",
   "execution_count": 14,
   "metadata": {},
   "outputs": [
    {
     "ename": "ZeroDivisionError",
     "evalue": "division by zero",
     "output_type": "error",
     "traceback": [
      "\u001b[1;31m---------------------------------------------------------------------------\u001b[0m",
      "\u001b[1;31mZeroDivisionError\u001b[0m                         Traceback (most recent call last)",
      "Cell \u001b[1;32mIn[14], line 3\u001b[0m\n\u001b[0;32m      1\u001b[0m x \u001b[39m=\u001b[39m \u001b[39m5\u001b[39m\n\u001b[0;32m      2\u001b[0m y \u001b[39m=\u001b[39m \u001b[39m0\u001b[39m\n\u001b[1;32m----> 3\u001b[0m z \u001b[39m=\u001b[39m x \u001b[39m/\u001b[39;49m y \u001b[39m# ZeroDivisionError: division by zero\u001b[39;00m\n",
      "\u001b[1;31mZeroDivisionError\u001b[0m: division by zero"
     ]
    }
   ],
   "source": [
    "x = 5\n",
    "y = 0\n",
    "z = x / y # ZeroDivisionError: division by zero"
   ]
  }
 ],
 "metadata": {
  "kernelspec": {
   "display_name": "Python 3",
   "language": "python",
   "name": "python3"
  },
  "language_info": {
   "codemirror_mode": {
    "name": "ipython",
    "version": 3
   },
   "file_extension": ".py",
   "mimetype": "text/x-python",
   "name": "python",
   "nbconvert_exporter": "python",
   "pygments_lexer": "ipython3",
   "version": "3.9.13"
  },
  "orig_nbformat": 4
 },
 "nbformat": 4,
 "nbformat_minor": 2
}
