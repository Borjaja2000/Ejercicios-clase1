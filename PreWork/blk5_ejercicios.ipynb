{
 "cells": [
  {
   "attachments": {},
   "cell_type": "markdown",
   "metadata": {},
   "source": [
    "<!DOCTYPE html>\n",
    "<html>\n",
    "<head>\n",
    "</head>\n",
    "<body>\n",
    "\n",
    "<div style=\"display: flex; justify-content: center; align-items: center; font-family: Arial, sans-serif; margin-top: 20px; margin-bottom: 20px;\">\n",
    "  <div style=\"text-align: right;\">\n",
    "    <div style=\"font-size: 24px; font-weight: bold; color: white; margin-left:20px;\">PREWORK BOOTCAMP DATA ANALYTICS</div>\n",
    "    <div style=\"font-size: 18px; font-weight: bold; margin-left: 20px;\">QUINTO BLOQUE: EJERCICIOS</div>\n",
    "  </div>\n",
    "  <div style=\"text-align: right;\">\n",
    "    <img src=\"https://d1fdloi71mui9q.cloudfront.net/S8HhvUnnRgmjyhySHtWl_ZQMaRWd21TfV5AsU\" width=\"100\" height=\"100\">\n",
    "  </div>\n",
    "  <div style=\"text-align: left;\">\n",
    "    <div style=\"font-size: 24px; font-weight: bold; color: white; margin-left:20px;\">UPGRADE-HUB</div>\n",
    "    <div style=\"font-size: 18px; font-weight: bold; margin-left: 20px;\">coordinacion.data@bootcamp-upgrade.com</div>\n",
    "  </div>\n",
    "</div>\n",
    "\n",
    "</body>\n",
    "</html>"
   ]
  },
  {
   "attachments": {},
   "cell_type": "markdown",
   "metadata": {},
   "source": [
    "Calcula la media, mediana y moda de la siguiente lista de números: [5, 7, 2, 4, 7, 8, 1, 3, 5, 6]."
   ]
  },
  {
   "cell_type": "code",
   "execution_count": null,
   "metadata": {},
   "outputs": [],
   "source": [
    "lista = [5,7,2,4,7,8,1,3,5,6]\n",
    "def media(datos):\n",
    "    return sum(datos) / len(datos)\n",
    "def mediana(datos):\n",
    "    datos_ordenados = sorted(datos)\n",
    "    n = len(datos)\n",
    "    if(n % 2 == 0):\n",
    "        return (datos_ordenados[n // 2 - 1] + datos_ordenados[n // 2]) / 2\n",
    "    else:\n",
    "        return datos_ordenados[n // 2]\n",
    "\n",
    "def moda(datos):\n",
    "    frecuencia = {}\n",
    "    for d in datos:\n",
    "        if d in frecuencia:\n",
    "            frecuencia[d] += 1\n",
    "        else:\n",
    "            frecuencia[d] = 1\n",
    "    return max(frecuencia, key=frecuencia.get)\n",
    "    \n",
    "\n",
    "print(media(lista))\n",
    "print(mediana(lista))\n",
    "print(moda(lista))"
   ]
  },
  {
   "attachments": {},
   "cell_type": "markdown",
   "metadata": {},
   "source": [
    "Calcula la varianza y la desviación estándar de la siguiente lista de números: [23, 19, 12, 17, 30, 28, 25, 22, 15, 20]."
   ]
  },
  {
   "cell_type": "code",
   "execution_count": null,
   "metadata": {},
   "outputs": [],
   "source": [
    "lista = [23,19,12,17,30,28,25,22,15,20]\n",
    "def varianza(datos):\n",
    "    m = media(datos)\n",
    "    return sum([(d - m)**2 for d in datos]) / len(datos)\n",
    "def desviacion_estandar(datos):\n",
    "    return varianza(datos)**0.5\n",
    "print(varianza(lista))\n",
    "print(desviacion_estandar(lista))"
   ]
  },
  {
   "attachments": {},
   "cell_type": "markdown",
   "metadata": {},
   "source": [
    "Supongamos que la altura media de los estudiantes de una clase es de 165 cm, con una desviación estándar de 10 cm. Si seleccionamos un estudiante al azar, ¿cuál es la probabilidad de que su altura esté entre 155 cm y 175 cm?"
   ]
  },
  {
   "cell_type": "code",
   "execution_count": 7,
   "metadata": {},
   "outputs": [
    {
     "name": "stdout",
     "output_type": "stream",
     "text": [
      "La probabilidad de que la altura esté entre 155 cm y 175 cm es: 0.6826894921370859\n"
     ]
    }
   ],
   "source": [
    "from scipy.stats import norm\n",
    "\n",
    "media = 165 \n",
    "desviacion_estandar = 10 \n",
    "\n",
    "altura_minima = 155\n",
    "altura_maxima = 175\n",
    "\n",
    "probabilidad = norm.cdf(altura_maxima, loc=media, scale=desviacion_estandar) - norm.cdf(altura_minima, loc=media, scale=desviacion_estandar)\n",
    "\n",
    "print(\"La probabilidad de que la altura esté entre 155 cm y 175 cm es:\", probabilidad)"
   ]
  },
  {
   "attachments": {},
   "cell_type": "markdown",
   "metadata": {},
   "source": [
    "el salario medio de los trabajadores de una empresa es de $50,000 al año, con una desviación estándar de $10,000 al año. Si seleccionamos al azar a 25 trabajadores de la empresa, ¿cuál es la probabilidad de que su salario medio sea mayor que $55,000 al año?"
   ]
  },
  {
   "cell_type": "code",
   "execution_count": 44,
   "metadata": {},
   "outputs": [
    {
     "name": "stdout",
     "output_type": "stream",
     "text": [
      "La probabilidad de que el salario medio sea mayor que $55000 al año es aproximadamente 0.006209665325776159\n"
     ]
    }
   ],
   "source": [
    "import scipy.stats as stats\n",
    "\n",
    "salario_medio_actual = 50000\n",
    "desviacion_estandar = 10000\n",
    "n_trabajadores = 25\n",
    "salario_deseado = 55000\n",
    "\n",
    "z = (salario_deseado - salario_medio_actual) / (desviacion_estandar / (n_trabajadores ** 0.5))\n",
    "\n",
    "probabilidad = 1 - stats.norm.cdf(z)\n",
    "\n",
    "print(f\"La probabilidad de que el salario medio sea mayor que ${salario_deseado} al año es aproximadamente {probabilidad}\")"
   ]
  },
  {
   "attachments": {},
   "cell_type": "markdown",
   "metadata": {},
   "source": [
    "Una tienda vende tres tipos de camisetas: pequeñas, medianas y grandes. La proporción de ventas de cada tamaño es del 30%, 50% y 20%, respectivamente. Si se venden 100 camisetas en total, ¿cuántas camisetas de cada tamaño se vendieron?"
   ]
  },
  {
   "cell_type": "code",
   "execution_count": 20,
   "metadata": {},
   "outputs": [
    {
     "name": "stdout",
     "output_type": "stream",
     "text": [
      "Se vendieron 30 pequeñas, 50 medianas y 20 grandes\n"
     ]
    }
   ],
   "source": [
    "pequeñas = 0.3\n",
    "medianas = 0.5\n",
    "grandes = 0.2\n",
    "total = 100  \n",
    "pequeñas_vendidas = round(pequeñas*total)\n",
    "medianas_vendidas = round(medianas*total)\n",
    "grandes_vendidas = round(grandes * total)\n",
    "print(f\"Se vendieron {pequeñas_vendidas} pequeñas, {medianas_vendidas} medianas y {grandes_vendidas} grandes\")"
   ]
  },
  {
   "attachments": {},
   "cell_type": "markdown",
   "metadata": {},
   "source": [
    "Supongamos que la duración media de la batería de un teléfono celular es de 10 horas, con una desviación estándar de 2 horas. Si seleccionamos al azar a 36 teléfonos celulares, ¿cuál es la probabilidad de que su duración media de la batería sea menor que 9 horas?"
   ]
  },
  {
   "cell_type": "code",
   "execution_count": 52,
   "metadata": {},
   "outputs": [
    {
     "name": "stdout",
     "output_type": "stream",
     "text": [
      "0.001349898031630093\n"
     ]
    }
   ],
   "source": [
    "import scipy.stats as stats\n",
    "\n",
    "media = 10 \n",
    "desviacion_estandar = 2  \n",
    "muestra = 36 \n",
    "duracion_deseada = 9  \n",
    "\n",
    "Z = (duracion_deseada - media) / (desviacion_estandar / (muestra ** 0.5))\n",
    "probabilidad = stats.norm.cdf(Z)\n",
    "print(probabilidad)\n"
   ]
  },
  {
   "attachments": {},
   "cell_type": "markdown",
   "metadata": {},
   "source": [
    " la cantidad media de tiempo que un cliente pasa en una tienda es de 45 minutos, con una desviación estándar de 10 minutos. Si seleccionamos al azar a 16 clientes, ¿cuál es la probabilidad de que su tiempo medio de permanencia sea mayor que 50 minutos?"
   ]
  },
  {
   "cell_type": "code",
   "execution_count": 55,
   "metadata": {},
   "outputs": [
    {
     "name": "stdout",
     "output_type": "stream",
     "text": [
      "La probabilidad de que el tiempo sea mayor que 50 minutos es 2.275013194817921%\n"
     ]
    }
   ],
   "source": [
    "import scipy.stats as stats\n",
    "\n",
    "media = 45 \n",
    "desviacion_estandar = 10\n",
    "muestra = 16\n",
    "tiempo_deseado = 50\n",
    "\n",
    "z = (tiempo_deseado - media) / (desviacion_estandar / (muestra ** 0.5))\n",
    "\n",
    "probabilidad = 1 - stats.norm.cdf(z)\n",
    "probabilidad = probabilidad * 100\n",
    "\n",
    "print(f\"La probabilidad de que el tiempo sea mayor que {tiempo_deseado} minutos es {probabilidad}%\")"
   ]
  },
  {
   "attachments": {},
   "cell_type": "markdown",
   "metadata": {},
   "source": [
    " la cantidad media de kilómetros recorridos por día por un conductor es de 50 km, con una desviación estándar de 5 km. Si seleccionamos al azar a 64 conductores, ¿cuál es la probabilidad de que su cantidad media de kilómetros recorridos por día esté entre 48 km y 52 km?"
   ]
  },
  {
   "cell_type": "code",
   "execution_count": 58,
   "metadata": {},
   "outputs": [
    {
     "name": "stdout",
     "output_type": "stream",
     "text": [
      "La probabibilidad es de 99.86257241241682%\n"
     ]
    }
   ],
   "source": [
    "from scipy.stats import norm\n",
    "\n",
    "media = 50\n",
    "desviacion_estandar = 5\n",
    "muestra = 64\n",
    "minimo = 48\n",
    "maximo = 52\n",
    "\n",
    "se = desviacion_estandar / (muestra ** 0.5)\n",
    "z_low = (minimo - media) / se\n",
    "z_high = (maximo - media) / se\n",
    "\n",
    "p = norm.cdf(z_high) - norm.cdf(z_low)\n",
    "p = p*100\n",
    "\n",
    "print(f\"La probabibilidad es de {p}%\")"
   ]
  },
  {
   "attachments": {},
   "cell_type": "markdown",
   "metadata": {},
   "source": [
    " la cantidad media de tazas de café que toma un empleado de una empresa es de 3 tazas al día, con una desviación estándar de 1 taza al día. Si seleccionamos al azar a 100 empleados, ¿cuál es la probabilidad de que la cantidad media de tazas de café que toman al día esté entre 2,8 y 3,2 tazas?"
   ]
  },
  {
   "cell_type": "code",
   "execution_count": 59,
   "metadata": {},
   "outputs": [
    {
     "name": "stdout",
     "output_type": "stream",
     "text": [
      "La probabibilidad es de 95.44997361036418%\n"
     ]
    }
   ],
   "source": [
    "from scipy.stats import norm\n",
    "\n",
    "media = 3\n",
    "desviacion_estandar = 1\n",
    "muestra = 100\n",
    "minimo = 2.8\n",
    "maximo = 3.2\n",
    "\n",
    "se = desviacion_estandar / (muestra ** 0.5)\n",
    "z_low = (minimo - media) / se\n",
    "z_high = (maximo - media) / se\n",
    "\n",
    "p = norm.cdf(z_high) - norm.cdf(z_low)\n",
    "p = p*100\n",
    "\n",
    "print(f\"La probabibilidad es de {p}%\")"
   ]
  },
  {
   "attachments": {},
   "cell_type": "markdown",
   "metadata": {},
   "source": [
    "Supongamos que el 60% de los estudiantes de una universidad son mujeres y el 40% son hombres. Si seleccionamos al azar a 25 estudiantes, ¿cuál es la probabilidad de que haya más mujeres que hombres en la muestra?"
   ]
  },
  {
   "cell_type": "code",
   "execution_count": 68,
   "metadata": {},
   "outputs": [
    {
     "name": "stdout",
     "output_type": "stream",
     "text": [
      "La probabilidad de que haya más mujeres que hombres en la muestra es: 0.846232231024237\n"
     ]
    }
   ],
   "source": [
    "from scipy.stats import binom\n",
    "\n",
    "n = 25\n",
    "p = 0.6 \n",
    "probability = 1 - binom.cdf(12, n, p)\n",
    "\n",
    "print(\"La probabilidad de que haya más mujeres que hombres en la muestra es:\", probability)"
   ]
  }
 ],
 "metadata": {
  "kernelspec": {
   "display_name": "Python 3",
   "language": "python",
   "name": "python3"
  },
  "language_info": {
   "codemirror_mode": {
    "name": "ipython",
    "version": 3
   },
   "file_extension": ".py",
   "mimetype": "text/x-python",
   "name": "python",
   "nbconvert_exporter": "python",
   "pygments_lexer": "ipython3",
   "version": "3.12.2"
  },
  "orig_nbformat": 4
 },
 "nbformat": 4,
 "nbformat_minor": 2
}
