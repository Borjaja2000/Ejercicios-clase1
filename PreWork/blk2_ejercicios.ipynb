{
 "cells": [
  {
   "attachments": {},
   "cell_type": "markdown",
   "metadata": {},
   "source": [
    "<!DOCTYPE html>\n",
    "<html>\n",
    "<head>\n",
    "</head>\n",
    "<body>\n",
    "\n",
    "<div style=\"display: flex; justify-content: center; align-items: center; font-family: Arial, sans-serif; margin-top: 20px; margin-bottom: 20px;\">\n",
    "  <div style=\"text-align: right;\">\n",
    "    <div style=\"font-size: 24px; font-weight: bold; color: white; margin-left:20px;\">PREWORK BOOTCAMP DATA ANALYTICS</div>\n",
    "    <div style=\"font-size: 18px; font-weight: bold; margin-left: 20px;\">SEGUNDO BLOQUE: EJERCICIOS</div>\n",
    "  </div>\n",
    "  <div style=\"text-align: right;\">\n",
    "    <img src=\"https://d1fdloi71mui9q.cloudfront.net/S8HhvUnnRgmjyhySHtWl_ZQMaRWd21TfV5AsU\" width=\"100\" height=\"100\">\n",
    "  </div>\n",
    "  <div style=\"text-align: left;\">\n",
    "    <div style=\"font-size: 24px; font-weight: bold; color: white; margin-left:20px;\">UPGRADE-HUB</div>\n",
    "    <div style=\"font-size: 18px; font-weight: bold; margin-left: 20px;\">coordinacion.data@bootcamp-upgrade.com</div>\n",
    "  </div>\n",
    "</div>\n",
    "\n",
    "</body>\n",
    "</html>"
   ]
  },
  {
   "attachments": {},
   "cell_type": "markdown",
   "metadata": {},
   "source": [
    "Escribir un programa que le pida al usuario un número entero positivo y muestre por pantalla si el número es par o impar."
   ]
  },
  {
   "cell_type": "code",
   "execution_count": 5,
   "metadata": {},
   "outputs": [
    {
     "name": "stdout",
     "output_type": "stream",
     "text": [
      "El número es par\n"
     ]
    }
   ],
   "source": [
    "numero = int(input(\"Introduce un número entero positivo: \"))\n",
    "if numero%2 == 0:\n",
    "    print(\"El número es par\")\n",
    "else:\n",
    "    print(\"El numero es impar\")"
   ]
  },
  {
   "attachments": {},
   "cell_type": "markdown",
   "metadata": {},
   "source": [
    "Escribir un programa que le pida al usuario un número entero positivo y muestre por pantalla todos los números impares desde 1 hasta ese número."
   ]
  },
  {
   "cell_type": "code",
   "execution_count": 8,
   "metadata": {},
   "outputs": [
    {
     "name": "stdout",
     "output_type": "stream",
     "text": [
      "El numero es menor que 0\n"
     ]
    }
   ],
   "source": [
    "numero = int(input(\"Introduce un número entero positivo: \"))\n",
    "if numero>=0:\n",
    "    for i in range(1, numero + 1 ,2):\n",
    "        print(i)\n",
    "else:\n",
    "    print(\"El numero es menor que 0\")"
   ]
  },
  {
   "cell_type": "markdown",
   "metadata": {},
   "source": [
    "Escribir un programa que le pida al usuario una cadena de texto y muestre por pantalla cuántas vocales contiene la cadena."
   ]
  },
  {
   "cell_type": "code",
   "execution_count": 51,
   "metadata": {},
   "outputs": [
    {
     "name": "stdout",
     "output_type": "stream",
     "text": [
      "a\n"
     ]
    }
   ],
   "source": [
    "cadena = str(input(\"Introduce una cadena de texto: \"))\n",
    "vocales = \"aeiouAEIOUáéíóúÁÉÍÓÚ\"\n",
    "vocales_cadena = ''\n",
    "for x in cadena:\n",
    "    if x in vocales:\n",
    "        vocales_cadena += x\n",
    "print(vocales_cadena)\n",
    "\n",
    "\n",
    "\n"
   ]
  },
  {
   "attachments": {},
   "cell_type": "markdown",
   "metadata": {},
   "source": [
    "Escribir un programa que le pida al usuario una lista de números y muestre por pantalla el número mayor de la lista"
   ]
  },
  {
   "cell_type": "code",
   "execution_count": 37,
   "metadata": {},
   "outputs": [
    {
     "name": "stdout",
     "output_type": "stream",
     "text": [
      "6\n"
     ]
    }
   ],
   "source": [
    "numero = (input(\"Introduce una lista de numeros separados por comas: \").split(\",\"))\n",
    "max_item = max(numero, key=int);\n",
    "\n",
    "print(max_item);"
   ]
  },
  {
   "attachments": {},
   "cell_type": "markdown",
   "metadata": {},
   "source": [
    "Escribir un programa que genere una lista de números aleatorios y muestre por pantalla cuántos números son pares y cuántos son impares."
   ]
  },
  {
   "cell_type": "code",
   "execution_count": 1,
   "metadata": {},
   "outputs": [
    {
     "name": "stdout",
     "output_type": "stream",
     "text": [
      "[10, 4, 5, 2, 7, 3, 8]\n",
      "[10, 4, 2, 8]\n",
      "[5, 7, 3]\n"
     ]
    }
   ],
   "source": [
    "import random\n",
    "\n",
    "cantidad = int(input(\"Cuantos numeros aleatorios desea obtener: \"))\n",
    "cadena  = []\n",
    "for _ in range(cantidad):\n",
    " numero = random.randint(1,10)\n",
    " cadena.append(numero)\n",
    "\n",
    "print(cadena)\n",
    "\n",
    "pares = []\n",
    "impares = []\n",
    "for num in cadena:\n",
    "   if num % 2 == 0:\n",
    "    pares.append(num)\n",
    "   else:\n",
    "     impares.append(num)\n",
    "     \n",
    "print(pares)\n",
    "print(impares)\n",
    "\n",
    "\n"
   ]
  },
  {
   "attachments": {},
   "cell_type": "markdown",
   "metadata": {},
   "source": [
    "Escribir un programa que le pida al usuario una cadena de texto y muestre por pantalla la misma cadena invertida."
   ]
  },
  {
   "cell_type": "code",
   "execution_count": 3,
   "metadata": {},
   "outputs": [
    {
     "name": "stdout",
     "output_type": "stream",
     "text": [
      "sugus\n"
     ]
    }
   ],
   "source": [
    "cadena = input(\"Introduzca una cadena de texto:\")\n",
    "print(cadena[::-1])"
   ]
  },
  {
   "cell_type": "markdown",
   "metadata": {},
   "source": [
    "Escribir un programa que le pida al usuario una lista de números y muestre por pantalla la suma de todos los números de la lista."
   ]
  },
  {
   "cell_type": "code",
   "execution_count": 9,
   "metadata": {},
   "outputs": [
    {
     "name": "stdout",
     "output_type": "stream",
     "text": [
      "La suma de los números es: 11\n"
     ]
    }
   ],
   "source": [
    "numeros = (input(\"Introduce una lista de numeros separados por comas: \").split(\",\"))\n",
    "\n",
    "numeros_enteros = [int(numero) for numero in numeros]\n",
    "\n",
    "suma = sum(numeros_enteros)\n",
    "\n",
    "print(\"La suma de los números es:\", suma)\n"
   ]
  },
  {
   "attachments": {},
   "cell_type": "markdown",
   "metadata": {},
   "source": [
    "Escribir un programa que le pida al usuario una cadena de texto y muestre por pantalla si la cadena es un palíndromo o no (es decir, si se lee igual de izquierda a derecha que de derecha a izquierda)."
   ]
  },
  {
   "cell_type": "code",
   "execution_count": 12,
   "metadata": {},
   "outputs": [
    {
     "name": "stdout",
     "output_type": "stream",
     "text": [
      "Es palíndromo\n"
     ]
    }
   ],
   "source": [
    "cadena = input(\"Introduzca una cadena de texto:\")\n",
    "reves = cadena[::-1]\n",
    "if(reves==cadena):\n",
    "    print(\"Es palíndromo\")\n",
    "else:\n",
    "    print(\"No es palíndromo\")\n"
   ]
  }
 ],
 "metadata": {
  "kernelspec": {
   "display_name": "Python 3",
   "language": "python",
   "name": "python3"
  },
  "language_info": {
   "codemirror_mode": {
    "name": "ipython",
    "version": 3
   },
   "file_extension": ".py",
   "mimetype": "text/x-python",
   "name": "python",
   "nbconvert_exporter": "python",
   "pygments_lexer": "ipython3",
   "version": "3.12.2"
  },
  "orig_nbformat": 4
 },
 "nbformat": 4,
 "nbformat_minor": 2
}
