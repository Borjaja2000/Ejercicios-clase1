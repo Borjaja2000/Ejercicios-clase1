{
 "cells": [
  {
   "cell_type": "markdown",
   "metadata": {},
   "source": [
    "<h1>Simulación de Batalla entre Ejércitos en Python</h1>\n",
    "\n",
    "<h2>Objetivo:</h2>\n",
    "<p>Desarrollar una aplicación en Python que simule una batalla entre dos ejércitos, cada uno compuesto por diferentes tipos de unidades. Este ejercicio está diseñado para ayudar a los estudiantes a practicar la creación de clases, la definición de atributos y métodos, y la implementación de lógica de simulación.</p>\n",
    "\n",
    "<h2>Descripción del Ejercicio:</h2>\n",
    "<p>Los estudiantes deben crear una clase <code>Ejercito</code> que contenga diferentes tipos de unidades: <code>Arquero</code>, <code>Caballero</code> e <code>Infanteria</code>. Cada tipo de unidad tendrá atributos específicos y métodos que definan sus acciones en una batalla. Además, deben implementar la lógica para simular una batalla entre dos ejércitos, mostrando el resultado de la misma.</p>\n",
    "\n",
    "<h2>Instrucciones:</h2>\n",
    "\n",
    "<h3>Crear las Clases para las Unidades:</h3>\n",
    "<ul>\n",
    "    <li><strong>Arquero</strong>: Esta clase debe tener los atributos <code>fuerza</code>, <code>precision</code> y <code>salud</code>, y métodos para atacar y recibir daño.</li>\n",
    "    <li><strong>Caballero</strong>: Esta clase debe tener los atributos <code>fuerza</code>, <code>defensa</code> y <code>salud</code>, y métodos para atacar y recibir daño.</li>\n",
    "    <li><strong>Infanteria</strong>: Esta clase debe tener los atributos <code>fuerza</code>, <code>resistencia</code> y <code>salud</code>, y métodos para atacar y recibir daño.</li>\n",
    "</ul>\n",
    "\n",
    "<h3>Crear la Clase <code>Ejercito</code>:</h3>\n",
    "<ul>\n",
    "    <li>Esta clase debe contener listas de instancias de las clases <code>Arquero</code>, <code>Caballero</code> e <code>Infanteria</code>.</li>\n",
    "    <li>Debe tener métodos para agregar una cantidad específica de unidades, mostrar la composición del ejército y simular una batalla.</li>\n",
    "</ul>\n",
    "\n",
    "<h3>Implementar los Métodos de la Clase <code>Ejercito</code>:</h3>\n",
    "<ul>\n",
    "    <li><code>agregar_unidades(tipo, cantidad)</code>: Agrega una cantidad específica de unidades de un tipo dado (<code>arquero</code>, <code>caballero</code>, <code>infanteria</code>) al ejército.</li>\n",
    "    <li><code>mostrar_ejercito()</code>: Muestra la composición actual del ejército.</li>\n",
    "    <li><code>simular_batalla(otro_ejercito)</code>: Simula una batalla entre el ejército actual y otro ejército, alternando los turnos de ataque entre ambos.</li>\n",
    "    <li><code>tiene_unidades()</code>: Verifica si el ejército todavía tiene unidades vivas.</li>\n",
    "    <li><code>turno_ataque(otro_ejercito)</code>: Realiza un turno de ataque en el que las unidades del ejército atacan a las unidades del otro ejército.</li>\n",
    "    <li><code>obtener_unidades()</code>: Devuelve una lista de todas las unidades del ejército.</li>\n",
    "    <li><code>eliminar_unidad(unidad)</code>: Elimina una unidad del ejército si su salud llega a 0 o menos.</li>\n",
    "</ul>\n"
   ]
  },
  {
   "cell_type": "code",
   "execution_count": null,
   "metadata": {},
   "outputs": [],
   "source": [
    "class Arquero:\n",
    "    def __init__(self, fuerza, precision, salud):\n",
    "        self.fuerza = fuerza\n",
    "        self.precision = precision\n",
    "        self.salud = salud\n",
    "    def atacar():\n",
    "        pass\n",
    "    def recibir_dano():\n",
    "        pass\n",
    "class Caballero:\n",
    "    def __init__(self, fuerza, defensa, salud):\n",
    "        self.fuerza = fuerza\n",
    "        self.defensa = defensa\n",
    "        self.salud = salud\n",
    "    def atacar():\n",
    "        pass\n",
    "    def recibir_dano():\n",
    "        pass\n",
    "class Infanteria:\n",
    "    def __init__(self, fuerza, resistencia, salud):\n",
    "        self.fuerza = fuerza\n",
    "        self.resistencia = resistencia\n",
    "        self.salud = salud\n",
    "    def atacar():\n",
    "        pass\n",
    "    def recibir_dano():\n",
    "        pass\n",
    "class Ejercito:\n",
    "    "
   ]
  }
 ],
 "metadata": {
  "kernelspec": {
   "display_name": "Python 3",
   "language": "python",
   "name": "python3"
  },
  "language_info": {
   "codemirror_mode": {
    "name": "ipython",
    "version": 3
   },
   "file_extension": ".py",
   "mimetype": "text/x-python",
   "name": "python",
   "nbconvert_exporter": "python",
   "pygments_lexer": "ipython3",
   "version": "3.11.9"
  }
 },
 "nbformat": 4,
 "nbformat_minor": 2
}
