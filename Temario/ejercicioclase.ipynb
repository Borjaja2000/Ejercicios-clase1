{
 "cells": [
  {
   "cell_type": "markdown",
   "metadata": {},
   "source": [
    "# titulo"
   ]
  },
  {
   "cell_type": "markdown",
   "metadata": {},
   "source": [
    "#### EJERCICIO PERRO"
   ]
  },
  {
   "cell_type": "markdown",
   "metadata": {
    "vscode": {
     "languageId": "markdown"
    }
   },
   "source": [
    "\n",
    "# Título principal\n",
    "\n",
    "## Encabezados\n",
    "\n",
    "### Encabezado de nivel 3\n",
    "\n",
    "#### Encabezado de nivel 4\n",
    "\n",
    "## Texto formateado\n",
    "\n",
    "**Negrita**\n",
    "\n",
    "*Cursiva*\n",
    "\n",
    "~~Tachado~~\n",
    "\n",
    "`Código en línea`\n",
    "\n",
    "## Listas\n",
    "\n",
    "### Lista desordenada\n",
    "\n",
    "- Elemento 1\n",
    "- Elemento 2\n",
    "- Elemento 3\n",
    "\n",
    "### Lista ordenada\n",
    "\n",
    "1. Elemento 1\n",
    "2. Elemento 2\n",
    "3. Elemento 3\n",
    "\n",
    "## Enlaces\n",
    "\n",
    "[Enlace a Google](https://www.google.com)\n",
    "\n",
    "## Imágenes\n",
    "\n",
    "![Texto alternativo](ruta/a/la/imagen.jpg)\n",
    "\n",
    "## Tablas\n",
    "\n",
    "| Columna 1 | Columna 2 | Columna 3 |\n",
    "| --------- | --------- | --------- |\n",
    "| Celda 1   | Celda 2   | Celda 3   |\n",
    "| Celda 4   | Celda 5   | Celda 6   |\n",
    "\n",
    "## Bloques de código\n",
    "\n"
   ]
  },
  {
   "cell_type": "code",
   "execution_count": null,
   "metadata": {},
   "outputs": [],
   "source": [
    "#Implemente una función llamada domainGet que obtenga el dominio del email de un usuario. Por ejemplo, para el correo\n",
    "\n",
    "def domainGet(email):\n",
    "    return email.split('@')[1]\n",
    "\n",
    "print(domainGet('hola@gmail.com'))\n",
    "\n",
    "#con lambda\n",
    "domainGet = lambda email: email.split('@')[1] \n",
    "userGet = lambda email: email.split('@')[0] \n",
    "\n"
   ]
  },
  {
   "cell_type": "markdown",
   "metadata": {},
   "source": [
    "#### Implemente una función llamada findDog, que tenga como entrada un string, que devuelva el valor True si ese string contiene la palabra 'dog'. Tenga en cuenta las posibles mayúsculas, y compruebe su función con el string 'Is there a dog here?'.\n",
    "\n"
   ]
  },
  {
   "cell_type": "code",
   "execution_count": 1,
   "metadata": {},
   "outputs": [
    {
     "name": "stdout",
     "output_type": "stream",
     "text": [
      "True\n"
     ]
    }
   ],
   "source": [
    "def findDog(string):\n",
    "    ''' Esta función recibe un string y retorna True si la palabra 'dog' está contenida en el string, de lo contrario retorna False.'''\n",
    "    return 'dog' in string.lower() \n",
    "\n",
    "print(findDog('Is there a dog here?'))"
   ]
  },
  {
   "cell_type": "markdown",
   "metadata": {},
   "source": [
    "#### Implemente una función similar a la del ejercicio anterior, pero que esta vez cuente el número de apariciones del string 'dog' en un cierto input. ,.<center>Compruebe sus resultados con el string: <br> 'This dog runs faster than the other dog dude!'</center>\n",
    "\n",
    "\n"
   ]
  },
  {
   "cell_type": "code",
   "execution_count": 3,
   "metadata": {},
   "outputs": [
    {
     "data": {
      "text/plain": [
       "2"
      ]
     },
     "execution_count": 3,
     "metadata": {},
     "output_type": "execute_result"
    }
   ],
   "source": [
    "frase = input('Ingrese una frase: ')\n",
    "\n",
    "def countDog(frase):\n",
    "    ''' Esta función recibe un string y retorna cuantas veces aparece la palabra 'dog' en el string.'''\n",
    "    return frase.lower().count('dog')\n",
    "\n",
    "countDog(frase)"
   ]
  },
  {
   "cell_type": "code",
   "execution_count": null,
   "metadata": {},
   "outputs": [],
   "source": [
    "str=input(\"Por favor, ingresa un texto:\").lower()\n",
    "def countDog(str):\n",
    "    dog_total=0\n",
    "    palabras=str.split()\n",
    "    for palabra in palabras:\n",
    "        if palabra==\"dog\":\n",
    "            dog_total+=1\n",
    "    return dog_total\n",
    "\n",
    "dog_total = countDog(str)  \n",
    "print(dog_total)"
   ]
  },
  {
   "cell_type": "markdown",
   "metadata": {},
   "source": [
    "#### Use funciones lambda y la función .filter() para filtrar palabras de una lista que no empiecen con la letra 's'. Por ejemplo,\n",
    "seq = ['soup','dog','salad','cat','great']\n"
   ]
  },
  {
   "cell_type": "code",
   "execution_count": 8,
   "metadata": {},
   "outputs": [
    {
     "name": "stdout",
     "output_type": "stream",
     "text": [
      "['sgreat']\n"
     ]
    }
   ],
   "source": [
    "seq = ['soup','dog','salad','cat','great']\n",
    "seq2 = ['oup','dog','alad','cat','sgreat']\n",
    "\n",
    "\n",
    "funcion = lambda x: list(filter(lambda x: x[0]=='s', x))\n",
    "print(funcion(seq2))"
   ]
  },
  {
   "cell_type": "code",
   "execution_count": null,
   "metadata": {},
   "outputs": [],
   "source": [
    "def filter_starting_with_s(y):\n",
    "    return [x for x in y if x[0] == 's']"
   ]
  },
  {
   "cell_type": "code",
   "execution_count": 9,
   "metadata": {},
   "outputs": [],
   "source": [
    "import whois "
   ]
  },
  {
   "cell_type": "code",
   "execution_count": 10,
   "metadata": {},
   "outputs": [],
   "source": [
    "def obtener_whois(dominio):\n",
    "    \"\"\" Función que devuelve la información de un dominio \"\"\"\n",
    "    try:\n",
    "        w = whois.whois(dominio)\n",
    "        return w\n",
    "    except Exception as e:\n",
    "        return f'ocurrio un error al obtener la informacion{e} '"
   ]
  },
  {
   "cell_type": "code",
   "execution_count": 12,
   "metadata": {},
   "outputs": [
    {
     "data": {
      "text/plain": [
       "{'domain_name': ['GOOGLE.COM', 'google.com'],\n",
       " 'registrar': 'MarkMonitor, Inc.',\n",
       " 'whois_server': 'whois.markmonitor.com',\n",
       " 'referral_url': None,\n",
       " 'updated_date': datetime.datetime(2019, 9, 9, 15, 39, 4),\n",
       " 'creation_date': [datetime.datetime(1997, 9, 15, 4, 0),\n",
       "  datetime.datetime(1997, 9, 15, 7, 0)],\n",
       " 'expiration_date': [datetime.datetime(2028, 9, 14, 4, 0),\n",
       "  datetime.datetime(2028, 9, 13, 7, 0)],\n",
       " 'name_servers': ['NS1.GOOGLE.COM',\n",
       "  'NS2.GOOGLE.COM',\n",
       "  'NS3.GOOGLE.COM',\n",
       "  'NS4.GOOGLE.COM',\n",
       "  'ns2.google.com',\n",
       "  'ns1.google.com',\n",
       "  'ns3.google.com',\n",
       "  'ns4.google.com'],\n",
       " 'status': ['clientDeleteProhibited https://icann.org/epp#clientDeleteProhibited',\n",
       "  'clientTransferProhibited https://icann.org/epp#clientTransferProhibited',\n",
       "  'clientUpdateProhibited https://icann.org/epp#clientUpdateProhibited',\n",
       "  'serverDeleteProhibited https://icann.org/epp#serverDeleteProhibited',\n",
       "  'serverTransferProhibited https://icann.org/epp#serverTransferProhibited',\n",
       "  'serverUpdateProhibited https://icann.org/epp#serverUpdateProhibited',\n",
       "  'clientUpdateProhibited (https://www.icann.org/epp#clientUpdateProhibited)',\n",
       "  'clientTransferProhibited (https://www.icann.org/epp#clientTransferProhibited)',\n",
       "  'clientDeleteProhibited (https://www.icann.org/epp#clientDeleteProhibited)',\n",
       "  'serverUpdateProhibited (https://www.icann.org/epp#serverUpdateProhibited)',\n",
       "  'serverTransferProhibited (https://www.icann.org/epp#serverTransferProhibited)',\n",
       "  'serverDeleteProhibited (https://www.icann.org/epp#serverDeleteProhibited)'],\n",
       " 'emails': ['abusecomplaints@markmonitor.com', 'whoisrequest@markmonitor.com'],\n",
       " 'dnssec': 'unsigned',\n",
       " 'name': None,\n",
       " 'org': 'Google LLC',\n",
       " 'address': None,\n",
       " 'city': None,\n",
       " 'state': 'CA',\n",
       " 'registrant_postal_code': None,\n",
       " 'country': 'US'}"
      ]
     },
     "execution_count": 12,
     "metadata": {},
     "output_type": "execute_result"
    }
   ],
   "source": [
    "dominio = 'google.com'\n",
    "obtener_whois(dominio)"
   ]
  },
  {
   "cell_type": "code",
   "execution_count": 13,
   "metadata": {},
   "outputs": [],
   "source": [
    "import pkg_resources"
   ]
  },
  {
   "cell_type": "code",
   "execution_count": 16,
   "metadata": {},
   "outputs": [
    {
     "name": "stdout",
     "output_type": "stream",
     "text": [
      "fsspec==2024.3.1\n",
      "hstspreload==2024.3.1\n",
      "regex==2023.12.25\n",
      "jsonschema-specifications==2023.12.1\n",
      "certifi==2023.11.17\n",
      "xyzservices==2023.10.1\n",
      "pytz==2023.3.post1\n",
      "tzdata==2023.3\n",
      "tbb==2021.12.0\n",
      "intel-openmp==2021.4.0\n",
      "mkl==2021.4.0\n",
      "pywin32==306\n",
      "cryptography==42.0.5\n",
      "kubernetes==29.0.0\n",
      "pyzmq==25.1.2\n",
      "pip==24.0\n",
      "flatbuffers==23.5.26\n",
      "aiofiles==23.2.1\n",
      "packaging==23.2\n",
      "argon2-cffi==23.1.0\n",
      "attrs==23.1.0\n",
      "gunicorn==22.0.0\n",
      "argon2-cffi-bindings==21.2.0\n",
      "isoduration==20.11.0\n",
      "faker==19.13.0\n",
      "libclang==16.0.6\n",
      "coloredlogs==15.0.1\n",
      "pyarrow==14.0.2\n",
      "rich==13.7.0\n",
      "websockets==11.0.3\n",
      "pyee==11.0.1\n",
      "pillow==10.1.0\n",
      "humanfriendly==10.0\n",
      "ortools==9.10.4067\n",
      "py-cpuinfo==9.0.0\n",
      "ipython==8.19.0\n",
      "jupyter-client==8.6.0\n",
      "mysql-connector-python==8.3.0\n",
      "ultralytics==8.2.14\n",
      "tenacity==8.2.3\n",
      "thinc==8.2.3\n",
      "ipywidgets==8.1.1\n",
      "click==8.0.4\n",
      "python-slugify==8.0.4\n",
      "nbconvert==7.16.2\n",
      "overrides==7.7.0\n",
      "netron==7.4.1\n",
      "notebook==7.1.2\n",
      "ipykernel==6.27.1\n",
      "importlib-metadata==6.11.0\n",
      "jupyter-console==6.6.3\n",
      "smart-open==6.4.0\n",
      "tornado==6.4\n",
      "importlib-resources==6.1.1\n",
      "bleach==6.1.0\n",
      "multidict==6.0.4\n",
      "pyyaml==6.0.1\n",
      "protobuf==5.26.1\n",
      "plotly==5.20.0\n",
      "traitlets==5.14.0\n",
      "psutil==5.9.7\n",
      "nbformat==5.9.2\n",
      "jupyter-core==5.5.1\n",
      "qtconsole==5.5.1\n",
      "cachetools==5.3.2\n",
      "altair==5.2.0\n",
      "hyperframe==5.2.0\n",
      "tzlocal==5.2\n",
      "lxml==5.1.0\n",
      "pocketsphinx==5.0.3\n",
      "smmap==5.0.1\n",
      "dash-table==5.0.0\n",
      "tqdm==4.66.1\n",
      "fonttools==4.47.0\n",
      "jsonschema==4.20.0\n",
      "selenium==4.18.1\n",
      "beautifulsoup4==4.12.3\n",
      "typing-extensions==4.11.0\n",
      "opencv-python==4.9.0.80\n",
      "rsa==4.9\n",
      "decorator==4.4.2\n",
      "gensim==4.3.2\n",
      "immutabledict==4.2.0\n",
      "lightgbm==4.2.0\n",
      "pypdf==4.2.0\n",
      "jupyterlab==4.1.5\n",
      "bcrypt==4.1.2\n",
      "mmh3==4.1.0\n",
      "platformdirs==4.1.0\n",
      "gitdb==4.0.11\n",
      "widgetsnbextension==4.0.9\n",
      "readchar==4.0.5\n",
      "fast-ml==3.68\n",
      "gradio==3.50.2\n",
      "marshmallow==3.20.2\n",
      "pycryptodome==3.20.0\n",
      "peewee==3.17.5\n",
      "zipp==3.17.0\n",
      "filelock==3.14.0\n",
      "orjson==3.10.1\n",
      "speechrecognition==3.10.1\n",
      "h5py==3.10.0\n",
      "aiohttp==3.9.1\n",
      "-atplotlib==3.8.2\n",
      "nltk==3.8.1\n",
      "spacy==3.7.4\n",
      "asgiref==3.7.2\n",
      "anyio==3.7.1\n",
      "es-core-news-sm==3.7.0\n",
      "pyproj==3.6.1\n",
      "matplotlib==3.6.0\n",
      "markdown==3.5.2\n",
      "pyreadline3==3.4.1\n",
      "xxhash==3.4.1\n",
      "langcodes==3.4.0\n",
      "paramiko==3.4.0\n",
      "pulsar-client==3.4.0\n",
      "posthog==3.3.4\n",
      "charset-normalizer==3.3.2\n",
      "networkx==3.3\n",
      "opt-einsum==3.3.0\n",
      "oauthlib==3.2.2\n",
      "h2==3.2.0\n",
      "pycaret==3.2.0\n",
      "threadpoolctl==3.2.0\n",
      "wget==3.2\n",
      "gitpython==3.1.40\n",
      "inquirer==3.1.4\n",
      "jinja2==3.1.4\n",
      "openpyxl==3.1.2\n",
      "pyparsing==3.1.1\n",
      "prompt-toolkit==3.0.43\n",
      "spacy-legacy==3.0.12\n",
      "jupyterlab-widgets==3.0.9\n",
      "preshed==3.0.9\n",
      "cython==3.0.8\n",
      "chardet==3.0.4\n",
      "greenlet==3.0.3\n",
      "mistune==3.0.2\n",
      "semver==3.0.2\n",
      "werkzeug==3.0.1\n",
      "cloudpickle==3.0.0\n",
      "googletrans==3.0.0\n",
      "hpack==3.0.0\n",
      "markdown-it-py==3.0.0\n",
      "watchdog==3.0.0\n",
      "imageio==2.33.1\n",
      "requests==2.31.0\n",
      "google-auth==2.26.2\n",
      "jupyterlab-server==2.25.4\n",
      "pycparser==2.21\n",
      "fastjsonschema==2.19.1\n",
      "pygments==2.17.2\n",
      "pydantic-core==2.14.6\n",
      "dash==2.14.2\n",
      "tensorboard==2.14.1\n",
      "babel==2.14.0\n",
      "keras==2.14.0\n",
      "tensorflow==2.14.0\n",
      "tensorflow-estimator==2.14.0\n",
      "tensorflow-intel==2.14.0\n",
      "jupyter-server==2.13.0\n",
      "idna==2.10\n",
      "semantic-version==2.10.0\n",
      "types-python-dateutil==2.9.0.20240316\n",
      "python-dateutil==2.8.2\n",
      "category-encoders==2.6.3\n",
      "pydantic==2.5.3\n",
      "soupsieve==2.5\n",
      "srsly==2.4.8\n",
      "frozendict==2.4.4\n",
      "dnspython==2.4.2\n",
      "asttokens==2.4.1\n",
      "geopy==2.4.1\n",
      "qtpy==2.4.1\n",
      "jsonpointer==2.4\n",
      "sortedcontainers==2.4.0\n",
      "termcolor==2.4.0\n",
      "windows-curses==2.3.3\n",
      "promise==2.3\n",
      "torch==2.3.0\n",
      "flask==2.2.5\n",
      "jupyter-lsp==2.2.4\n",
      "pandas==2.2.2\n",
      "markupsafe==2.1.5\n",
      "speedtest-cli==2.1.3\n",
      "itsdangerous==2.1.2\n",
      "deprecation==2.1.0\n",
      "urllib3==2.1.0\n",
      "sqlalchemy==2.0.25\n",
      "pywinpty==2.0.13\n",
      "catalogue==2.0.10\n",
      "cymem==2.0.8\n",
      "python-json-logger==2.0.7\n",
      "html2image==2.0.4.3\n",
      "async-lru==2.0.4\n",
      "pmdarima==2.0.4\n",
      "shapely==2.0.4\n",
      "linkify-it-py==2.0.3\n",
      "pandasai==2.0.3\n",
      "executing==2.0.1\n",
      "absl-py==2.0.0\n",
      "dash-core-components==2.0.0\n",
      "dash-html-components==2.0.0\n",
      "geographiclib==2.0\n",
      "ansicon==1.89.0\n",
      "googleapis-common-protos==1.62.0\n",
      "grpcio==1.60.0\n",
      "playwright==1.42.0\n",
      "sentry-sdk==1.39.2\n",
      "jsonpatch==1.33\n",
      "numpy==1.25.2\n",
      "openai==1.25.1\n",
      "opentelemetry-api==1.22.0\n",
      "opentelemetry-exporter-otlp-proto-common==1.22.0\n",
      "opentelemetry-exporter-otlp-proto-grpc==1.22.0\n",
      "opentelemetry-proto==1.22.0\n",
      "opentelemetry-sdk==1.22.0\n",
      "blessed==1.20.0\n",
      "litellm==1.16.11\n",
      "onnxruntime==1.16.3\n",
      "cffi==1.16.0\n",
      "six==1.16.0\n",
      "wrapt==1.14.1\n",
      "webcolors==1.13\n",
      "sympy==1.12\n",
      "scipy==1.10.1\n",
      "backoff==1.10.0\n",
      "fiona==1.9.6\n",
      "yarl==1.9.4\n",
      "ansi2html==1.9.1\n",
      "distro==1.9.0\n",
      "streamlit==1.9.0\n",
      "send2trash==1.8.2\n",
      "debugpy==1.8.0\n",
      "pysocks==1.7.1\n",
      "blinker==1.7.0\n",
      "websocket-client==1.7.0\n",
      "kaggle==1.6.14\n",
      "astunparse==1.6.3\n",
      "monotonic==1.6\n",
      "nest-asyncio==1.5.8\n",
      "shellingham==1.5.4\n",
      "fqdn==1.5.1\n",
      "pandocfilters==1.5.1\n",
      "pynacl==1.5.0\n",
      "rfc3986==1.5.0\n",
      "yellowbrick==1.5\n",
      "kiwisolver==1.4.5\n",
      "appdirs==1.4.4\n",
      "frozenlist==1.4.1\n",
      "analytics-python==1.4.post1\n",
      "argparse==1.4.0\n",
      "retrying==1.3.4\n",
      "setproctitle==1.3.3\n",
      "joblib==1.3.2\n",
      "aiosignal==1.3.1\n",
      "requests-oauthlib==1.3.1\n",
      "outcome==1.3.0.post0\n",
      "arrow==1.3.0\n",
      "mpmath==1.3.0\n",
      "sniffio==1.3.0\n",
      "text-unidecode==1.3\n",
      "uri-template==1.3.0\n",
      "deprecated==1.2.14\n",
      "scikit-learn==1.2.2\n",
      "jinxed==1.2.1\n",
      "tinycss2==1.2.1\n",
      "contourpy==1.2.0\n",
      "language-data==1.2.0\n",
      "wsproto==1.2.0\n",
      "tbats==1.1.3\n",
      "pyod==1.1.2\n",
      "wasabi==1.1.2\n",
      "click-plugins==1.1.1\n",
      "marisa-trie==1.1.1\n",
      "chart-studio==1.1.0\n",
      "et-xmlfile==1.1.0\n",
      "html5lib==1.1\n",
      "shortuuid==1.0.13\n",
      "murmurhash==1.0.10\n",
      "spacy-loggers==1.0.5\n",
      "python-editor==1.0.4\n",
      "build==1.0.3\n",
      "git-python==1.0.3\n",
      "moviepy==1.0.3\n",
      "uc-micro-py==1.0.3\n",
      "pympler==1.0.1\n",
      "python-dotenv==1.0.1\n",
      "future==1.0.0\n",
      "google-auth-oauthlib==1.0.0\n",
      "jupyter==1.0.0\n",
      "mypy-extensions==1.0.0\n",
      "pyproject-hooks==1.0.0\n",
      "fastapi==0.109.0\n",
      "numba==0.58.1\n",
      "pypika==0.48.9\n",
      "opentelemetry-instrumentation==0.43b0\n",
      "opentelemetry-instrumentation-asgi==0.43b0\n",
      "opentelemetry-instrumentation-fastapi==0.43b0\n",
      "opentelemetry-semantic-conventions==0.43b0\n",
      "opentelemetry-util-http==0.43b0\n",
      "wheel==0.42.0\n",
      "llvmlite==0.41.1\n",
      "starlette==0.35.1\n",
      "referencing==0.32.0\n",
      "tensorflow-io-gcs-filesystem==0.31.0\n",
      "uvicorn==0.27.0.post1\n",
      "pydub==0.25.1\n",
      "httpx==0.24.1\n",
      "trio==0.24.0\n",
      "validators==0.22.0\n",
      "sktime==0.21.1\n",
      "watchfiles==0.21.0\n",
      "polars==0.20.13\n",
      "huggingface-hub==0.20.1\n",
      "prometheus-client==0.20.0\n",
      "jedi==0.19.1\n",
      "terminado==0.18.1\n",
      "torchvision==0.18.0\n",
      "datascience==0.17.6\n",
      "rpds-py==0.16.2\n",
      "cloudpathlib==0.16.0\n",
      "folium==0.15.1\n",
      "httpcore==0.15.0\n",
      "schemdraw==0.15\n",
      "tokenizers==0.15.0\n",
      "geopandas==0.14.4\n",
      "statsmodels==0.14.1\n",
      "seaborn==0.13.0\n",
      "wandb==0.12.16\n",
      "cycler==0.12.1\n",
      "h11==0.12.0\n",
      "tomlkit==0.12.0\n",
      "toolz==0.12.0\n",
      "trio-websocket==0.11.1\n",
      "imbalanced-learn==0.11.0\n",
      "toml==0.10.2\n",
      "nbclient==0.10.0\n",
      "json5==0.9.24\n",
      "typer==0.9.4\n",
      "duckdb==0.9.2\n",
      "plotly-resampler==0.9.2\n",
      "textwrap3==0.9.2\n",
      "jupyter-events==0.9.1\n",
      "typing-inspect==0.9.0\n",
      "parso==0.8.3\n",
      "astor==0.8.1\n",
      "pydeck==0.8.1b0\n",
      "python-whois==0.8.0\n",
      "blis==0.7.11\n",
      "chroma-hnswlib==0.7.3\n",
      "cligj==0.7.2\n",
      "tensorboard-data-server==0.7.2\n",
      "defusedxml==0.7.1\n",
      "branca==0.7.0\n",
      "dataclasses-json==0.6.3\n",
      "stack-data==0.6.3\n",
      "gradio-client==0.6.1\n",
      "httptools==0.6.1\n",
      "annotated-types==0.6.0\n",
      "fire==0.6.0\n",
      "patsy==0.5.6\n",
      "gast==0.5.4\n",
      "jupyter-server-terminals==0.5.3\n",
      "scikit-base==0.5.2\n",
      "tiktoken==0.5.2\n",
      "pyasn1==0.5.1\n",
      "webencodings==0.5.1\n",
      "chromadb==0.5.0\n",
      "imageio-ffmpeg==0.4.9\n",
      "colorama==0.4.6\n",
      "sounddevice==0.4.6\n",
      "plotly-express==0.4.1\n",
      "docker-pycreds==0.4.0\n",
      "mdit-py-plugins==0.4.0\n",
      "ruff==0.3.7\n",
      "scikit-plot==0.3.7\n",
      "weasel==0.3.4\n",
      "ffmpy==0.3.1\n",
      "jupyterlab-pygments==0.3.0\n",
      "pyasn1-modules==0.3.0\n",
      "yfinance==0.2.40\n",
      "wcwidth==0.2.12\n",
      "notebook-shim==0.2.4\n",
      "pure-eval==0.2.2\n",
      "kaleido==0.2.1\n",
      "comm==0.2.0\n",
      "google-pasta==0.2.0\n",
      "ml-dtypes==0.2.0\n",
      "langsmith==0.1.48\n",
      "langchain-core==0.1.46\n",
      "open-interpreter==0.1.18\n",
      "langchain==0.1.16\n",
      "tokentrim==0.1.13\n",
      "proglog==0.1.10\n",
      "matplotlib-inline==0.1.6\n",
      "confection==0.1.4\n",
      "langchain-openai==0.1.4\n",
      "rfc3339-validator==0.1.4\n",
      "mdurl==0.1.2\n",
      "pathtools==0.1.2\n",
      "tsdownsample==0.1.2\n",
      "thop==0.1.1.post2209072238\n",
      "rfc3986-validator==0.1.1\n",
      "pywhois==0.1\n",
      "langchain-community==0.0.33\n",
      "multitasking==0.0.11\n",
      "python-multipart==0.0.9\n",
      "bs4==0.0.2\n",
      "langchain-text-splitters==0.0.1\n",
      "setuptools==65.5.0\n"
     ]
    }
   ],
   "source": [
    "librerias = {dist.key: dist.version for dist in pkg_resources.working_set}\n",
    "for libreria, version in librerias.items():\n",
    "    print(f'{libreria}=={version}')"
   ]
  },
  {
   "cell_type": "markdown",
   "metadata": {},
   "source": [
    "##### Crear una función que convierta grados Celsius a Fahrenheit:"
   ]
  },
  {
   "cell_type": "code",
   "execution_count": 17,
   "metadata": {},
   "outputs": [],
   "source": [
    "def grados_fahrenheit(celsius):\n",
    "    \"\"\" Función que convierte grados celsius a fahrenheit \"\"\"\n",
    "    return ((9/5)*celsius + 32)\n",
    "\n",
    "def grados_celsius(fahrenheit):\n",
    "    \"\"\" Función que convierte grados fahrenheit a celsius \"\"\"\n",
    "    return (fahrenheit - 32) * 5/9\n",
    "\n",
    "def convertir_grados(grados, escala):\n",
    "    \"\"\" Función que convierte grados de una escala a otra \"\"\"\n",
    "    if escala == \"c\":\n",
    "        return grados_fahrenheit(grados)\n",
    "    elif escala == \"f\":\n",
    "        return grados_celsius(grados)\n",
    "    else:\n",
    "        return \"Escala no válida\""
   ]
  },
  {
   "cell_type": "code",
   "execution_count": 20,
   "metadata": {},
   "outputs": [
    {
     "name": "stdout",
     "output_type": "stream",
     "text": [
      "Escala no válida\n"
     ]
    }
   ],
   "source": [
    "print(convertir_grados(32, \"x\"))"
   ]
  },
  {
   "cell_type": "markdown",
   "metadata": {},
   "source": [
    "Escribe una función que genere contraseñas aleatorias. La función debe permitir al usuario especificar la longitud de la contraseña y si quiere incluir números, símbolos o solo letras."
   ]
  },
  {
   "cell_type": "code",
   "execution_count": 23,
   "metadata": {},
   "outputs": [
    {
     "name": "stdout",
     "output_type": "stream",
     "text": [
      "^(CE\\JB56$#)9}G!CX7)(gqF?zM5[8\n"
     ]
    }
   ],
   "source": [
    "import secrets\n",
    "import string\n",
    "\n",
    "def generar_contrasena_segura(longitud, numeros=True, simbolos=True):\n",
    "    \"\"\"Función que genera contraseñas aleatorias asegurando la inclusión de diferentes tipos de caracteres.\"\"\"\n",
    "    caracteres = string.ascii_letters\n",
    "    contrasena = []\n",
    "    \n",
    "    if numeros: #si nuestro argumento es True, añadimos los números a la lista de caracteres\n",
    "        caracteres += string.digits #añadimos los dígitos a la lista de caracteres\n",
    "        contrasena.append(secrets.choice(string.digits)) #añadimos (append) un dígito a la contraseña (aseguramos que haya al menos un dígito en la contraseña\n",
    "    \n",
    "    if simbolos: #si nuestro argumento es True, añadimos los símbolos a la lista de caracteres\n",
    "        caracteres += string.punctuation #añadimos los símbolos a la lista de caracteres\n",
    "        contrasena.append(secrets.choice(string.punctuation)) #añadimos (append) un símbolo a la contraseña (aseguramos que haya al menos un símbolo en la contraseña\n",
    "    \n",
    "    #longitud mínima es respetada\n",
    "    while len(contrasena) < longitud: #mientras la longitud de la contraseña sea menor a la longitud deseada\n",
    "        contrasena.append(secrets.choice(caracteres)) #añadimos un caracter aleatorio a la contraseña\n",
    "    \n",
    "    #mezclamos la contraseña para no predecir la posición de los caracteres especiales/dígitos\n",
    "    secrets.SystemRandom().shuffle(contrasena) \n",
    "    \n",
    "    return ''.join(contrasena) #retornamos la contraseña como un string (no como una lista) concatenando los caracteres de la lista con un string vacío\n",
    "\n",
    "# Ejemplo de uso\n",
    "print(generar_contrasena_segura(30, True, True))"
   ]
  },
  {
   "cell_type": "markdown",
   "metadata": {},
   "source": [
    " función que convierta segundos en un formato legible de horas, minutos y segundos. La salida debe ser una cadena en formato \"HH:MM:SS\"."
   ]
  },
  {
   "cell_type": "code",
   "execution_count": 43,
   "metadata": {},
   "outputs": [
    {
     "data": {
      "text/plain": [
       "'139848181206206228956453956456228953953984:48:20'"
      ]
     },
     "execution_count": 43,
     "metadata": {},
     "output_type": "execute_result"
    }
   ],
   "source": [
    "def convertir_segundos(segundos):\n",
    "    \"\"\" Función que convierte segundos en horas, minutos y segundos \"\"\"\n",
    "    horas = segundos // 3600 #dividimos los segundos entre 3600 para obtener las horas\n",
    "    minutos = (segundos % 3600) // 60 #dividimos el residuo de la división anterior entre 60 para obtener los minutos\n",
    "    segundos = (segundos % 3600) % 60 #el residuo de la división anterior son los segundos restantes\n",
    "    return f\"{horas:02d}:{minutos:02d}:{segundos:02d}\" #retornamos un string con el formato HH:MM:SS\n",
    "\n",
    "convertir_segundos(503453452342342424243234243242424234234345300)"
   ]
  },
  {
   "cell_type": "code",
   "execution_count": 42,
   "metadata": {},
   "outputs": [
    {
     "name": "stdout",
     "output_type": "stream",
     "text": [
      "('518592489477238873997755396 años, 11 meses, 29 días, 23 horas, 6 minutos, 40 '\n",
      " 'segundos')\n"
     ]
    }
   ],
   "source": [
    "from openai import OpenAI\n",
    "import pprint\n",
    "client = OpenAI()\n",
    "\n",
    "response = client.chat.completions.create(\n",
    "  model=\"gpt-4-turbo-preview\",\n",
    "  messages=[\n",
    "    {\n",
    "      \"role\": \"user\",\n",
    "      \"content\": \"calcula en formato hh:mm:ss 503453452342342424243234243242424234234345300, dame solo la respuesta en formato hh:mm:ss\"\n",
    "    }\n",
    "  ],\n",
    "  temperature=1,\n",
    "  max_tokens=256,\n",
    "  top_p=1,\n",
    "  frequency_penalty=1,\n",
    "  presence_penalty=0\n",
    ")\n",
    "\n",
    "pprint.pprint(response.choices[0].message.content)"
   ]
  },
  {
   "cell_type": "markdown",
   "metadata": {},
   "source": [
    "Crea una función lambda que convierta una lista de temperaturas de Celsius a Fahrenheit."
   ]
  },
  {
   "cell_type": "code",
   "execution_count": 45,
   "metadata": {},
   "outputs": [
    {
     "name": "stdout",
     "output_type": "stream",
     "text": [
      "[32.0, 50.0, 68.0, 86.0]\n"
     ]
    }
   ],
   "source": [
    "celsius = [0, 10, 20, 30]\n",
    "\n",
    "fahrenheit = list(map(lambda x: (9/5)*x + 32, celsius))\n",
    "pprint.pprint(fahrenheit)"
   ]
  },
  {
   "cell_type": "markdown",
   "metadata": {},
   "source": [
    "Crea una función lambda para concatenar una lista de palabras con un separador específico."
   ]
  },
  {
   "cell_type": "code",
   "execution_count": 47,
   "metadata": {},
   "outputs": [
    {
     "name": "stdout",
     "output_type": "stream",
     "text": [
      "'Python xxxx es xxxx genial'\n"
     ]
    }
   ],
   "source": [
    "palabras = [\"Python\", \"es\", \"genial\"]\n",
    "\n",
    "funcionita = lambda palabras, separador: separador.join(palabras)\n",
    "pprint.pprint(funcionita(palabras, \" xxxx \")) "
   ]
  },
  {
   "cell_type": "markdown",
   "metadata": {},
   "source": [
    "Utiliza una función lambda para invertir el orden de los caracteres en una cadena."
   ]
  },
  {
   "cell_type": "code",
   "execution_count": 48,
   "metadata": {},
   "outputs": [
    {
     "name": "stdout",
     "output_type": "stream",
     "text": [
      "'laineg se nohtyP'\n"
     ]
    }
   ],
   "source": [
    "cadena = \"Python es genial\"\n",
    "\n",
    "cadena_invertida = lambda cadena: cadena[::-1]\n",
    "pprint.pprint(cadena_invertida(cadena))"
   ]
  },
  {
   "cell_type": "markdown",
   "metadata": {},
   "source": [
    "<center>CLASES</center>"
   ]
  },
  {
   "cell_type": "code",
   "execution_count": 49,
   "metadata": {},
   "outputs": [],
   "source": [
    "class Padre:\n",
    "\n",
    "    def __init__(self, nombre, edad, profesion, altura, color_ojos):\n",
    "        self.nombre = nombre\n",
    "        self.edad = edad\n",
    "        self.profesion = profesion\n",
    "        self.altura = altura\n",
    "        self.color_ojos = color_ojos\n",
    "\n",
    "    def presentarse(self):\n",
    "        return f\"Hola, soy {self.nombre}, tengo {self.edad} años y soy {self.profesion}\""
   ]
  },
  {
   "cell_type": "code",
   "execution_count": 50,
   "metadata": {},
   "outputs": [],
   "source": [
    "class Madre:\n",
    "\n",
    "    def __init__(self, nombre, edad, profesion, altura, color_ojos):\n",
    "        self.nombre = nombre\n",
    "        self.edad = edad\n",
    "        self.profesion = profesion\n",
    "        self.altura = altura\n",
    "        self.color_ojos = color_ojos\n",
    "\n",
    "    def presentarse(self):\n",
    "        return f\"Hola, soy {self.nombre}, tengo {self.edad} años y soy {self.profesion}\""
   ]
  },
  {
   "cell_type": "code",
   "execution_count": 51,
   "metadata": {},
   "outputs": [],
   "source": [
    "padre = Padre(\"Juan\", 40, \"Ingeniero\", 1.80, \"Café\") \n",
    "madre = Madre(\"María\", 35, \"Doctora\", 1.70, \"Verdes\")"
   ]
  },
  {
   "cell_type": "code",
   "execution_count": 52,
   "metadata": {},
   "outputs": [
    {
     "name": "stdout",
     "output_type": "stream",
     "text": [
      "Hola, soy Juan, tengo 40 años y soy Ingeniero\n",
      "Hola, soy María, tengo 35 años y soy Doctora\n"
     ]
    }
   ],
   "source": [
    "print(padre.presentarse())\n",
    "print(madre.presentarse())"
   ]
  },
  {
   "cell_type": "code",
   "execution_count": 60,
   "metadata": {},
   "outputs": [],
   "source": [
    "class Hijo(Padre, Madre):\n",
    "\n",
    "    def __init__(self, nombre, edad, profesion_padre, profesion_madre, altura_padre, altura_madre, color_ojos_padre, color_ojos_madre,escuela):\n",
    "        Padre.__init__(self, nombre, edad, profesion_padre, altura_padre, color_ojos_padre)\n",
    "        Madre.__init__(self, nombre, edad, profesion_madre, altura_madre, color_ojos_madre)\n",
    "        self.escuela = escuela\n",
    "\n",
    "    def presentarse(self):\n",
    "        return f\"Hola, soy {self.nombre}, tengo {self.edad} años y voy a la escuela {self.escuela} y mi color de ojos es {self.color_ojos}\""
   ]
  },
  {
   "cell_type": "code",
   "execution_count": 61,
   "metadata": {},
   "outputs": [],
   "source": [
    "hijo = Hijo(\"Pedro\", 10, \"Ingeniero\", \"Doctora\", 1.80, \"Café\", 1.70, \"Verdes\", \"Colegio XYZ\")"
   ]
  },
  {
   "cell_type": "code",
   "execution_count": 62,
   "metadata": {},
   "outputs": [
    {
     "name": "stdout",
     "output_type": "stream",
     "text": [
      "Hola, soy Pedro, tengo 10 años y voy a la escuela Colegio XYZ y mi color de ojos es Verdes\n"
     ]
    }
   ],
   "source": [
    "print(hijo.presentarse())"
   ]
  }
 ],
 "metadata": {
  "kernelspec": {
   "display_name": "Python 3",
   "language": "python",
   "name": "python3"
  },
  "language_info": {
   "codemirror_mode": {
    "name": "ipython",
    "version": 3
   },
   "file_extension": ".py",
   "mimetype": "text/x-python",
   "name": "python",
   "nbconvert_exporter": "python",
   "pygments_lexer": "ipython3",
   "version": "3.11.9"
  }
 },
 "nbformat": 4,
 "nbformat_minor": 2
}
